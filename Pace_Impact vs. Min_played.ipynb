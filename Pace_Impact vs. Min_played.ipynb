{
 "cells": [
  {
   "cell_type": "code",
   "execution_count": 41,
   "id": "57e5e4ce",
   "metadata": {},
   "outputs": [],
   "source": [
    "# Dependdencies and set up \n",
    "\n",
    "import pandas as pd\n",
    "import matplotlib.pyplot as plt\n",
    "%matplotlib inline\n",
    "import numpy as np\n",
    "import scipy.stats as st\n",
    "import seaborn as sns\n",
    "import plotly.express as px\n",
    "import plotly.graph_objects as go"
   ]
  },
  {
   "cell_type": "code",
   "execution_count": 2,
   "id": "1a1f5cf5",
   "metadata": {},
   "outputs": [],
   "source": [
    "latest=pd.read_csv(\"CSVs/historical_RAPTOR_by_team.csv\")\n",
    "historical=pd.read_csv(\"CSVs/latest_RAPTOR_by_team.csv\")"
   ]
  },
  {
   "cell_type": "code",
   "execution_count": 3,
   "id": "3a08aa3f",
   "metadata": {},
   "outputs": [
    {
     "data": {
      "text/html": [
       "<div>\n",
       "<style scoped>\n",
       "    .dataframe tbody tr th:only-of-type {\n",
       "        vertical-align: middle;\n",
       "    }\n",
       "\n",
       "    .dataframe tbody tr th {\n",
       "        vertical-align: top;\n",
       "    }\n",
       "\n",
       "    .dataframe thead th {\n",
       "        text-align: right;\n",
       "    }\n",
       "</style>\n",
       "<table border=\"1\" class=\"dataframe\">\n",
       "  <thead>\n",
       "    <tr style=\"text-align: right;\">\n",
       "      <th></th>\n",
       "      <th>player_name</th>\n",
       "      <th>player_id</th>\n",
       "      <th>season</th>\n",
       "      <th>season_type</th>\n",
       "      <th>team</th>\n",
       "      <th>poss</th>\n",
       "      <th>mp</th>\n",
       "      <th>raptor_offense</th>\n",
       "      <th>raptor_defense</th>\n",
       "      <th>raptor_total</th>\n",
       "      <th>...</th>\n",
       "      <th>predator_offense</th>\n",
       "      <th>predator_defense</th>\n",
       "      <th>predator_total</th>\n",
       "      <th>pace_impact</th>\n",
       "      <th>raptor_box_offense</th>\n",
       "      <th>raptor_box_defense</th>\n",
       "      <th>raptor_box_total</th>\n",
       "      <th>raptor_onoff_offense</th>\n",
       "      <th>raptor_onoff_defense</th>\n",
       "      <th>raptor_onoff_total</th>\n",
       "    </tr>\n",
       "  </thead>\n",
       "  <tbody>\n",
       "    <tr>\n",
       "      <th>0</th>\n",
       "      <td>Kareem Abdul-Jabbar</td>\n",
       "      <td>abdulka01</td>\n",
       "      <td>1977</td>\n",
       "      <td>PO</td>\n",
       "      <td>LAL</td>\n",
       "      <td>1020</td>\n",
       "      <td>467</td>\n",
       "      <td>6.350694</td>\n",
       "      <td>3.288313</td>\n",
       "      <td>9.639006</td>\n",
       "      <td>...</td>\n",
       "      <td>6.592019</td>\n",
       "      <td>3.065131</td>\n",
       "      <td>9.657150</td>\n",
       "      <td>-0.432080</td>\n",
       "      <td>NaN</td>\n",
       "      <td>NaN</td>\n",
       "      <td>NaN</td>\n",
       "      <td>NaN</td>\n",
       "      <td>NaN</td>\n",
       "      <td>NaN</td>\n",
       "    </tr>\n",
       "    <tr>\n",
       "      <th>1</th>\n",
       "      <td>Kareem Abdul-Jabbar</td>\n",
       "      <td>abdulka01</td>\n",
       "      <td>1977</td>\n",
       "      <td>RS</td>\n",
       "      <td>LAL</td>\n",
       "      <td>6654</td>\n",
       "      <td>3016</td>\n",
       "      <td>4.267101</td>\n",
       "      <td>3.075579</td>\n",
       "      <td>7.342679</td>\n",
       "      <td>...</td>\n",
       "      <td>4.482404</td>\n",
       "      <td>2.556956</td>\n",
       "      <td>7.039361</td>\n",
       "      <td>-0.513828</td>\n",
       "      <td>NaN</td>\n",
       "      <td>NaN</td>\n",
       "      <td>NaN</td>\n",
       "      <td>NaN</td>\n",
       "      <td>NaN</td>\n",
       "      <td>NaN</td>\n",
       "    </tr>\n",
       "    <tr>\n",
       "      <th>2</th>\n",
       "      <td>Zaid Abdul-Aziz</td>\n",
       "      <td>abdulza01</td>\n",
       "      <td>1977</td>\n",
       "      <td>RS</td>\n",
       "      <td>BUF</td>\n",
       "      <td>441</td>\n",
       "      <td>195</td>\n",
       "      <td>-1.926415</td>\n",
       "      <td>-0.368835</td>\n",
       "      <td>-2.295249</td>\n",
       "      <td>...</td>\n",
       "      <td>-1.817927</td>\n",
       "      <td>-1.624327</td>\n",
       "      <td>-3.442253</td>\n",
       "      <td>-0.751147</td>\n",
       "      <td>NaN</td>\n",
       "      <td>NaN</td>\n",
       "      <td>NaN</td>\n",
       "      <td>NaN</td>\n",
       "      <td>NaN</td>\n",
       "      <td>NaN</td>\n",
       "    </tr>\n",
       "    <tr>\n",
       "      <th>3</th>\n",
       "      <td>Tom Abernethy</td>\n",
       "      <td>abernto01</td>\n",
       "      <td>1977</td>\n",
       "      <td>PO</td>\n",
       "      <td>LAL</td>\n",
       "      <td>467</td>\n",
       "      <td>214</td>\n",
       "      <td>0.024715</td>\n",
       "      <td>-0.825643</td>\n",
       "      <td>-0.800928</td>\n",
       "      <td>...</td>\n",
       "      <td>-0.565843</td>\n",
       "      <td>-1.695077</td>\n",
       "      <td>-2.260920</td>\n",
       "      <td>-0.425337</td>\n",
       "      <td>NaN</td>\n",
       "      <td>NaN</td>\n",
       "      <td>NaN</td>\n",
       "      <td>NaN</td>\n",
       "      <td>NaN</td>\n",
       "      <td>NaN</td>\n",
       "    </tr>\n",
       "    <tr>\n",
       "      <th>4</th>\n",
       "      <td>Tom Abernethy</td>\n",
       "      <td>abernto01</td>\n",
       "      <td>1977</td>\n",
       "      <td>RS</td>\n",
       "      <td>LAL</td>\n",
       "      <td>3040</td>\n",
       "      <td>1378</td>\n",
       "      <td>0.517829</td>\n",
       "      <td>-0.459991</td>\n",
       "      <td>0.057838</td>\n",
       "      <td>...</td>\n",
       "      <td>0.141415</td>\n",
       "      <td>-0.835555</td>\n",
       "      <td>-0.694139</td>\n",
       "      <td>-0.315821</td>\n",
       "      <td>NaN</td>\n",
       "      <td>NaN</td>\n",
       "      <td>NaN</td>\n",
       "      <td>NaN</td>\n",
       "      <td>NaN</td>\n",
       "      <td>NaN</td>\n",
       "    </tr>\n",
       "  </tbody>\n",
       "</table>\n",
       "<p>5 rows × 23 columns</p>\n",
       "</div>"
      ],
      "text/plain": [
       "           player_name  player_id  season season_type team  poss    mp  \\\n",
       "0  Kareem Abdul-Jabbar  abdulka01    1977          PO  LAL  1020   467   \n",
       "1  Kareem Abdul-Jabbar  abdulka01    1977          RS  LAL  6654  3016   \n",
       "2      Zaid Abdul-Aziz  abdulza01    1977          RS  BUF   441   195   \n",
       "3        Tom Abernethy  abernto01    1977          PO  LAL   467   214   \n",
       "4        Tom Abernethy  abernto01    1977          RS  LAL  3040  1378   \n",
       "\n",
       "   raptor_offense  raptor_defense  raptor_total  ...  predator_offense  \\\n",
       "0        6.350694        3.288313      9.639006  ...          6.592019   \n",
       "1        4.267101        3.075579      7.342679  ...          4.482404   \n",
       "2       -1.926415       -0.368835     -2.295249  ...         -1.817927   \n",
       "3        0.024715       -0.825643     -0.800928  ...         -0.565843   \n",
       "4        0.517829       -0.459991      0.057838  ...          0.141415   \n",
       "\n",
       "   predator_defense  predator_total  pace_impact  raptor_box_offense  \\\n",
       "0          3.065131        9.657150    -0.432080                 NaN   \n",
       "1          2.556956        7.039361    -0.513828                 NaN   \n",
       "2         -1.624327       -3.442253    -0.751147                 NaN   \n",
       "3         -1.695077       -2.260920    -0.425337                 NaN   \n",
       "4         -0.835555       -0.694139    -0.315821                 NaN   \n",
       "\n",
       "   raptor_box_defense  raptor_box_total  raptor_onoff_offense  \\\n",
       "0                 NaN               NaN                   NaN   \n",
       "1                 NaN               NaN                   NaN   \n",
       "2                 NaN               NaN                   NaN   \n",
       "3                 NaN               NaN                   NaN   \n",
       "4                 NaN               NaN                   NaN   \n",
       "\n",
       "   raptor_onoff_defense  raptor_onoff_total  \n",
       "0                   NaN                 NaN  \n",
       "1                   NaN                 NaN  \n",
       "2                   NaN                 NaN  \n",
       "3                   NaN                 NaN  \n",
       "4                   NaN                 NaN  \n",
       "\n",
       "[5 rows x 23 columns]"
      ]
     },
     "execution_count": 3,
     "metadata": {},
     "output_type": "execute_result"
    }
   ],
   "source": [
    "merged=pd.merge(latest,historical,how=\"outer\")\n",
    "merged.head()"
   ]
  },
  {
   "cell_type": "code",
   "execution_count": 4,
   "id": "8c5f8ef0",
   "metadata": {},
   "outputs": [
    {
     "data": {
      "text/html": [
       "<div>\n",
       "<style scoped>\n",
       "    .dataframe tbody tr th:only-of-type {\n",
       "        vertical-align: middle;\n",
       "    }\n",
       "\n",
       "    .dataframe tbody tr th {\n",
       "        vertical-align: top;\n",
       "    }\n",
       "\n",
       "    .dataframe thead th {\n",
       "        text-align: right;\n",
       "    }\n",
       "</style>\n",
       "<table border=\"1\" class=\"dataframe\">\n",
       "  <thead>\n",
       "    <tr style=\"text-align: right;\">\n",
       "      <th></th>\n",
       "      <th>player_name</th>\n",
       "      <th>player_id</th>\n",
       "      <th>season</th>\n",
       "      <th>season_type</th>\n",
       "      <th>team</th>\n",
       "      <th>poss</th>\n",
       "      <th>mp</th>\n",
       "      <th>raptor_offense</th>\n",
       "      <th>raptor_defense</th>\n",
       "      <th>raptor_total</th>\n",
       "      <th>...</th>\n",
       "      <th>predator_offense</th>\n",
       "      <th>predator_defense</th>\n",
       "      <th>predator_total</th>\n",
       "      <th>pace_impact</th>\n",
       "      <th>raptor_box_offense</th>\n",
       "      <th>raptor_box_defense</th>\n",
       "      <th>raptor_box_total</th>\n",
       "      <th>raptor_onoff_offense</th>\n",
       "      <th>raptor_onoff_defense</th>\n",
       "      <th>raptor_onoff_total</th>\n",
       "    </tr>\n",
       "  </thead>\n",
       "  <tbody>\n",
       "    <tr>\n",
       "      <th>0</th>\n",
       "      <td>Kareem Abdul-Jabbar</td>\n",
       "      <td>abdulka01</td>\n",
       "      <td>1977</td>\n",
       "      <td>PO</td>\n",
       "      <td>LAL</td>\n",
       "      <td>1020</td>\n",
       "      <td>467</td>\n",
       "      <td>6.350694</td>\n",
       "      <td>3.288313</td>\n",
       "      <td>9.639006</td>\n",
       "      <td>...</td>\n",
       "      <td>6.592019</td>\n",
       "      <td>3.065131</td>\n",
       "      <td>9.657150</td>\n",
       "      <td>-0.432080</td>\n",
       "      <td>0.0</td>\n",
       "      <td>0.0</td>\n",
       "      <td>0.0</td>\n",
       "      <td>0.0</td>\n",
       "      <td>0.0</td>\n",
       "      <td>0.0</td>\n",
       "    </tr>\n",
       "    <tr>\n",
       "      <th>1</th>\n",
       "      <td>Kareem Abdul-Jabbar</td>\n",
       "      <td>abdulka01</td>\n",
       "      <td>1977</td>\n",
       "      <td>RS</td>\n",
       "      <td>LAL</td>\n",
       "      <td>6654</td>\n",
       "      <td>3016</td>\n",
       "      <td>4.267101</td>\n",
       "      <td>3.075579</td>\n",
       "      <td>7.342679</td>\n",
       "      <td>...</td>\n",
       "      <td>4.482404</td>\n",
       "      <td>2.556956</td>\n",
       "      <td>7.039361</td>\n",
       "      <td>-0.513828</td>\n",
       "      <td>0.0</td>\n",
       "      <td>0.0</td>\n",
       "      <td>0.0</td>\n",
       "      <td>0.0</td>\n",
       "      <td>0.0</td>\n",
       "      <td>0.0</td>\n",
       "    </tr>\n",
       "    <tr>\n",
       "      <th>2</th>\n",
       "      <td>Zaid Abdul-Aziz</td>\n",
       "      <td>abdulza01</td>\n",
       "      <td>1977</td>\n",
       "      <td>RS</td>\n",
       "      <td>BUF</td>\n",
       "      <td>441</td>\n",
       "      <td>195</td>\n",
       "      <td>-1.926415</td>\n",
       "      <td>-0.368835</td>\n",
       "      <td>-2.295249</td>\n",
       "      <td>...</td>\n",
       "      <td>-1.817927</td>\n",
       "      <td>-1.624327</td>\n",
       "      <td>-3.442253</td>\n",
       "      <td>-0.751147</td>\n",
       "      <td>0.0</td>\n",
       "      <td>0.0</td>\n",
       "      <td>0.0</td>\n",
       "      <td>0.0</td>\n",
       "      <td>0.0</td>\n",
       "      <td>0.0</td>\n",
       "    </tr>\n",
       "    <tr>\n",
       "      <th>3</th>\n",
       "      <td>Tom Abernethy</td>\n",
       "      <td>abernto01</td>\n",
       "      <td>1977</td>\n",
       "      <td>PO</td>\n",
       "      <td>LAL</td>\n",
       "      <td>467</td>\n",
       "      <td>214</td>\n",
       "      <td>0.024715</td>\n",
       "      <td>-0.825643</td>\n",
       "      <td>-0.800928</td>\n",
       "      <td>...</td>\n",
       "      <td>-0.565843</td>\n",
       "      <td>-1.695077</td>\n",
       "      <td>-2.260920</td>\n",
       "      <td>-0.425337</td>\n",
       "      <td>0.0</td>\n",
       "      <td>0.0</td>\n",
       "      <td>0.0</td>\n",
       "      <td>0.0</td>\n",
       "      <td>0.0</td>\n",
       "      <td>0.0</td>\n",
       "    </tr>\n",
       "    <tr>\n",
       "      <th>4</th>\n",
       "      <td>Tom Abernethy</td>\n",
       "      <td>abernto01</td>\n",
       "      <td>1977</td>\n",
       "      <td>RS</td>\n",
       "      <td>LAL</td>\n",
       "      <td>3040</td>\n",
       "      <td>1378</td>\n",
       "      <td>0.517829</td>\n",
       "      <td>-0.459991</td>\n",
       "      <td>0.057838</td>\n",
       "      <td>...</td>\n",
       "      <td>0.141415</td>\n",
       "      <td>-0.835555</td>\n",
       "      <td>-0.694139</td>\n",
       "      <td>-0.315821</td>\n",
       "      <td>0.0</td>\n",
       "      <td>0.0</td>\n",
       "      <td>0.0</td>\n",
       "      <td>0.0</td>\n",
       "      <td>0.0</td>\n",
       "      <td>0.0</td>\n",
       "    </tr>\n",
       "  </tbody>\n",
       "</table>\n",
       "<p>5 rows × 23 columns</p>\n",
       "</div>"
      ],
      "text/plain": [
       "           player_name  player_id  season season_type team  poss    mp  \\\n",
       "0  Kareem Abdul-Jabbar  abdulka01    1977          PO  LAL  1020   467   \n",
       "1  Kareem Abdul-Jabbar  abdulka01    1977          RS  LAL  6654  3016   \n",
       "2      Zaid Abdul-Aziz  abdulza01    1977          RS  BUF   441   195   \n",
       "3        Tom Abernethy  abernto01    1977          PO  LAL   467   214   \n",
       "4        Tom Abernethy  abernto01    1977          RS  LAL  3040  1378   \n",
       "\n",
       "   raptor_offense  raptor_defense  raptor_total  ...  predator_offense  \\\n",
       "0        6.350694        3.288313      9.639006  ...          6.592019   \n",
       "1        4.267101        3.075579      7.342679  ...          4.482404   \n",
       "2       -1.926415       -0.368835     -2.295249  ...         -1.817927   \n",
       "3        0.024715       -0.825643     -0.800928  ...         -0.565843   \n",
       "4        0.517829       -0.459991      0.057838  ...          0.141415   \n",
       "\n",
       "   predator_defense  predator_total  pace_impact  raptor_box_offense  \\\n",
       "0          3.065131        9.657150    -0.432080                 0.0   \n",
       "1          2.556956        7.039361    -0.513828                 0.0   \n",
       "2         -1.624327       -3.442253    -0.751147                 0.0   \n",
       "3         -1.695077       -2.260920    -0.425337                 0.0   \n",
       "4         -0.835555       -0.694139    -0.315821                 0.0   \n",
       "\n",
       "   raptor_box_defense  raptor_box_total  raptor_onoff_offense  \\\n",
       "0                 0.0               0.0                   0.0   \n",
       "1                 0.0               0.0                   0.0   \n",
       "2                 0.0               0.0                   0.0   \n",
       "3                 0.0               0.0                   0.0   \n",
       "4                 0.0               0.0                   0.0   \n",
       "\n",
       "   raptor_onoff_defense  raptor_onoff_total  \n",
       "0                   0.0                 0.0  \n",
       "1                   0.0                 0.0  \n",
       "2                   0.0                 0.0  \n",
       "3                   0.0                 0.0  \n",
       "4                   0.0                 0.0  \n",
       "\n",
       "[5 rows x 23 columns]"
      ]
     },
     "execution_count": 4,
     "metadata": {},
     "output_type": "execute_result"
    }
   ],
   "source": [
    "merged.fillna(0,inplace=True)\n",
    "clean_df=merged\n",
    "clean_df.isnull().sum()\n",
    "clean_df.head()"
   ]
  },
  {
   "cell_type": "code",
   "execution_count": 5,
   "id": "767e1565",
   "metadata": {},
   "outputs": [
    {
     "data": {
      "text/plain": [
       "Index(['player_name', 'player_id', 'season', 'season_type', 'team', 'poss',\n",
       "       'mp', 'raptor_offense', 'raptor_defense', 'raptor_total', 'war_total',\n",
       "       'war_reg_season', 'war_playoffs', 'predator_offense',\n",
       "       'predator_defense', 'predator_total', 'pace_impact',\n",
       "       'raptor_box_offense', 'raptor_box_defense', 'raptor_box_total',\n",
       "       'raptor_onoff_offense', 'raptor_onoff_defense', 'raptor_onoff_total'],\n",
       "      dtype='object')"
      ]
     },
     "execution_count": 5,
     "metadata": {},
     "output_type": "execute_result"
    }
   ],
   "source": [
    "clean_df.columns"
   ]
  },
  {
   "cell_type": "markdown",
   "id": "fc4acc08",
   "metadata": {},
   "source": [
    "### Which players had the most minutes played and the greatest pace impact on their team compared to their RAPTOR scores?"
   ]
  },
  {
   "cell_type": "code",
   "execution_count": null,
   "id": "cd4c9562",
   "metadata": {},
   "outputs": [],
   "source": []
  },
  {
   "cell_type": "code",
   "execution_count": 6,
   "id": "8af2a5d8",
   "metadata": {},
   "outputs": [
    {
     "data": {
      "text/html": [
       "<div>\n",
       "<style scoped>\n",
       "    .dataframe tbody tr th:only-of-type {\n",
       "        vertical-align: middle;\n",
       "    }\n",
       "\n",
       "    .dataframe tbody tr th {\n",
       "        vertical-align: top;\n",
       "    }\n",
       "\n",
       "    .dataframe thead th {\n",
       "        text-align: right;\n",
       "    }\n",
       "</style>\n",
       "<table border=\"1\" class=\"dataframe\">\n",
       "  <thead>\n",
       "    <tr style=\"text-align: right;\">\n",
       "      <th></th>\n",
       "      <th>player_name</th>\n",
       "      <th>Total_Minutes_Played</th>\n",
       "      <th>Total_Pace_Impact</th>\n",
       "      <th>Total_RAPTOR_Scores</th>\n",
       "    </tr>\n",
       "  </thead>\n",
       "  <tbody>\n",
       "    <tr>\n",
       "      <th>0</th>\n",
       "      <td>A.C. Green</td>\n",
       "      <td>40671</td>\n",
       "      <td>-14.631130</td>\n",
       "      <td>-5.311204</td>\n",
       "    </tr>\n",
       "    <tr>\n",
       "      <th>1</th>\n",
       "      <td>A.J. Bramlett</td>\n",
       "      <td>61</td>\n",
       "      <td>0.527413</td>\n",
       "      <td>-9.820485</td>\n",
       "    </tr>\n",
       "  </tbody>\n",
       "</table>\n",
       "</div>"
      ],
      "text/plain": [
       "     player_name  Total_Minutes_Played  Total_Pace_Impact  Total_RAPTOR_Scores\n",
       "0     A.C. Green                 40671         -14.631130            -5.311204\n",
       "1  A.J. Bramlett                    61           0.527413            -9.820485"
      ]
     },
     "execution_count": 6,
     "metadata": {},
     "output_type": "execute_result"
    }
   ],
   "source": [
    "# Filter columns\n",
    "\n",
    "df=clean_df[[\"player_name\",\"mp\",\"raptor_total\",\"pace_impact\"]]\n",
    "df.head(2)\n",
    "\n",
    "# Get the totals of minutes played,pace impact and raptor totals of each player.\n",
    "\n",
    "total_mp=df.groupby(\"player_name\")[\"mp\"].sum()\n",
    "total_pace_impact=df.groupby(\"player_name\")[\"pace_impact\"].sum()\n",
    "total_raptor=df.groupby(\"player_name\")[\"raptor_total\"].sum()\n",
    "\n",
    "# Make it into a Dataframe\n",
    "\n",
    "total_mp_pace_raptor = pd.DataFrame({\"Total_Minutes_Played\": total_mp,\n",
    "                             \"Total_Pace_Impact\": total_pace_impact,\n",
    "                             \"Total_RAPTOR_Scores\": total_raptor})\n",
    "total_mp_pace_raptor=total_mp_pace_raptor.reset_index()\n",
    "\n",
    "# Display the Dataframe\n",
    "\n",
    "total_mp_pace_raptor.head(2)"
   ]
  },
  {
   "cell_type": "code",
   "execution_count": 7,
   "id": "03ef7b50",
   "metadata": {},
   "outputs": [
    {
     "data": {
      "text/html": [
       "<div>\n",
       "<style scoped>\n",
       "    .dataframe tbody tr th:only-of-type {\n",
       "        vertical-align: middle;\n",
       "    }\n",
       "\n",
       "    .dataframe tbody tr th {\n",
       "        vertical-align: top;\n",
       "    }\n",
       "\n",
       "    .dataframe thead th {\n",
       "        text-align: right;\n",
       "    }\n",
       "</style>\n",
       "<table border=\"1\" class=\"dataframe\">\n",
       "  <thead>\n",
       "    <tr style=\"text-align: right;\">\n",
       "      <th></th>\n",
       "      <th>team</th>\n",
       "      <th>Total Players</th>\n",
       "      <th>Raptor Total</th>\n",
       "      <th>Possessions</th>\n",
       "      <th>War Total</th>\n",
       "      <th>Pace Impact</th>\n",
       "      <th>Minutes Played</th>\n",
       "      <th>Raptor On and Off Totals</th>\n",
       "      <th>RAPTOR Offense</th>\n",
       "      <th>RAPTOR Defense</th>\n",
       "    </tr>\n",
       "  </thead>\n",
       "  <tbody>\n",
       "    <tr>\n",
       "      <th>0</th>\n",
       "      <td>ATL</td>\n",
       "      <td>1185</td>\n",
       "      <td>-1.570031</td>\n",
       "      <td>1642.004219</td>\n",
       "      <td>1.140147</td>\n",
       "      <td>0.263341</td>\n",
       "      <td>819.489451</td>\n",
       "      <td>0.018678</td>\n",
       "      <td>-1.187607</td>\n",
       "      <td>-0.382423</td>\n",
       "    </tr>\n",
       "    <tr>\n",
       "      <th>1</th>\n",
       "      <td>BOS</td>\n",
       "      <td>1222</td>\n",
       "      <td>-1.199087</td>\n",
       "      <td>1704.759411</td>\n",
       "      <td>1.448069</td>\n",
       "      <td>0.248033</td>\n",
       "      <td>838.174304</td>\n",
       "      <td>0.033699</td>\n",
       "      <td>-1.130326</td>\n",
       "      <td>-0.068761</td>\n",
       "    </tr>\n",
       "    <tr>\n",
       "      <th>2</th>\n",
       "      <td>BRK</td>\n",
       "      <td>340</td>\n",
       "      <td>-1.191441</td>\n",
       "      <td>1366.402941</td>\n",
       "      <td>0.843397</td>\n",
       "      <td>0.275703</td>\n",
       "      <td>666.041176</td>\n",
       "      <td>-0.316375</td>\n",
       "      <td>-1.077620</td>\n",
       "      <td>-0.113821</td>\n",
       "    </tr>\n",
       "    <tr>\n",
       "      <th>3</th>\n",
       "      <td>BUF</td>\n",
       "      <td>37</td>\n",
       "      <td>-2.715885</td>\n",
       "      <td>2382.189189</td>\n",
       "      <td>0.983682</td>\n",
       "      <td>0.180248</td>\n",
       "      <td>1068.513514</td>\n",
       "      <td>0.000000</td>\n",
       "      <td>-1.835151</td>\n",
       "      <td>-0.880735</td>\n",
       "    </tr>\n",
       "    <tr>\n",
       "      <th>4</th>\n",
       "      <td>CHA</td>\n",
       "      <td>380</td>\n",
       "      <td>-2.366248</td>\n",
       "      <td>1938.507895</td>\n",
       "      <td>0.952573</td>\n",
       "      <td>0.133151</td>\n",
       "      <td>975.000000</td>\n",
       "      <td>-0.145483</td>\n",
       "      <td>-1.909040</td>\n",
       "      <td>-0.457208</td>\n",
       "    </tr>\n",
       "  </tbody>\n",
       "</table>\n",
       "</div>"
      ],
      "text/plain": [
       "  team  Total Players  Raptor Total  Possessions  War Total  Pace Impact  \\\n",
       "0  ATL           1185     -1.570031  1642.004219   1.140147     0.263341   \n",
       "1  BOS           1222     -1.199087  1704.759411   1.448069     0.248033   \n",
       "2  BRK            340     -1.191441  1366.402941   0.843397     0.275703   \n",
       "3  BUF             37     -2.715885  2382.189189   0.983682     0.180248   \n",
       "4  CHA            380     -2.366248  1938.507895   0.952573     0.133151   \n",
       "\n",
       "   Minutes Played  Raptor On and Off Totals  RAPTOR Offense  RAPTOR Defense  \n",
       "0      819.489451                  0.018678       -1.187607       -0.382423  \n",
       "1      838.174304                  0.033699       -1.130326       -0.068761  \n",
       "2      666.041176                 -0.316375       -1.077620       -0.113821  \n",
       "3     1068.513514                  0.000000       -1.835151       -0.880735  \n",
       "4      975.000000                 -0.145483       -1.909040       -0.457208  "
      ]
     },
     "execution_count": 7,
     "metadata": {},
     "output_type": "execute_result"
    }
   ],
   "source": [
    "# Averages of various features by teams.\n",
    "\n",
    "total_players=clean_df.groupby(\"team\")[\"player_name\"].count()\n",
    "raptor_total=clean_df.groupby(\"team\")[\"raptor_total\"].mean()\n",
    "poss=clean_df.groupby(\"team\")[\"poss\"].mean()\n",
    "war_total=clean_df.groupby(\"team\")[\"war_total\"].mean()\n",
    "pace_impact=clean_df.groupby(\"team\")[\"pace_impact\"].mean()\n",
    "raptor_onoff_total=clean_df.groupby(\"team\")[\"raptor_onoff_total\"].mean()\n",
    "avg_mp_team=clean_df.groupby(\"team\")[\"mp\"].mean()\n",
    "avg_raptor_offense=clean_df.groupby(\"team\")[\"raptor_offense\"].mean()\n",
    "avg_raptor_defense=clean_df.groupby(\"team\")[\"raptor_defense\"].mean()\n",
    "\n",
    "avg_summary = pd.DataFrame({\"Total Players\": total_players,\n",
    "          \"Raptor Total\": raptor_total,\n",
    "          \"Possessions\": poss,\n",
    "          \"War Total\": war_total,\n",
    "          \"Pace Impact\": pace_impact,\n",
    "          \"Minutes Played\":avg_mp_team,\n",
    "          \"Raptor On and Off Totals\":raptor_onoff_total,\n",
    "          \"RAPTOR Offense\": avg_raptor_offense,\n",
    "          \"RAPTOR Defense\": avg_raptor_defense}).reset_index()\n",
    "avg_summary.head()"
   ]
  },
  {
   "cell_type": "code",
   "execution_count": 8,
   "id": "07af5ac7",
   "metadata": {},
   "outputs": [],
   "source": [
    "# function for bar plot\n",
    "\n",
    "def bar_plot(x_axis,y_axis,ylabel,title,size):\n",
    "    fig, ax = plt.subplots(figsize=(size))\n",
    "    bar_container= ax.bar(x_axis,y_axis,alpha=0.5,color=\"#F94C10\")\n",
    "    ax.bar_label(bar_container,fmt='{:,.0f}')\n",
    "    plt.xlabel(\"Player Names\",weight=\"bold\")\n",
    "    plt.ylabel(ylabel,weight=\"bold\")\n",
    "    plt.title(f\"Top 10  {title}\",weight=\"bold\")\n",
    "    plt.xticks(rotation=45)\n",
    "\n",
    "    plt.show()"
   ]
  },
  {
   "cell_type": "code",
   "execution_count": 9,
   "id": "48d24bdd",
   "metadata": {},
   "outputs": [],
   "source": [
    "# function for regression plot\n",
    "\n",
    "def regression_plot(x_axis,y_axis,xlabel,ylabel,text_coordinates):\n",
    "    \n",
    "\n",
    "    (slope, intercept, rvalue, pvalue, stderr)= st.linregress(x_axis,y_axis)\n",
    "    regress_values = x_axis * slope + intercept\n",
    "    line_eq =  \"y = \" + str(round(slope,2)) + \"x + \" + str(round(intercept,2))\n",
    "\n",
    "    plt.scatter(x_axis,y_axis, marker=r'8',c=\"#F94C10\",s=50,alpha=0.7,edgecolor=\"#F94C10\")\n",
    "    plt.plot(x_axis,regress_values,\"r:\",alpha=0.5)\n",
    "    plt.xlabel(xlabel,weight=\"bold\")\n",
    "    plt.ylabel(ylabel,weight=\"bold\")\n",
    "    plt.title(f\"{xlabel} vs {ylabel} by Teams\",color=\"#F94C10\",weight=\"bold\")\n",
    "    plt.grid(True,color=\"b\",alpha=0.10)\n",
    "    plt.annotate(line_eq,text_coordinates,fontsize=15,color=\"#F94C10\")\n",
    "    for team, txt in enumerate(team_names):\n",
    "        plt.annotate(txt, (x_axis[team], y_axis[team]), color=\"#F94C10\",alpha=0.5)\n",
    "    plt.show()\n",
    "   "
   ]
  },
  {
   "cell_type": "code",
   "execution_count": null,
   "id": "7330cd6d",
   "metadata": {},
   "outputs": [],
   "source": []
  },
  {
   "cell_type": "code",
   "execution_count": 10,
   "id": "555554f2",
   "metadata": {},
   "outputs": [],
   "source": [
    "# top_ten_raptor_total.head()"
   ]
  },
  {
   "cell_type": "markdown",
   "id": "db9c104f",
   "metadata": {},
   "source": [
    "#### Pace Impact per Player"
   ]
  },
  {
   "cell_type": "code",
   "execution_count": 11,
   "id": "abeb1af2",
   "metadata": {},
   "outputs": [],
   "source": [
    "def bar_plot(x_axis,y_axis,ylabel,title,size):\n",
    "    fig, ax = plt.subplots(figsize=(size))\n",
    "    bar_container= ax.bar(x_axis,y_axis,alpha=0.5,color=\"#F94C10\")\n",
    "    ax.bar_label(bar_container,fmt='{:,.0f}')\n",
    "    plt.xlabel(\"Player Names\",weight=\"bold\")\n",
    "    plt.ylabel(ylabel,weight=\"bold\")\n",
    "    plt.title(f\"Top 10  {title}\",weight=\"bold\")\n",
    "    plt.xticks(rotation=45)\n",
    "\n",
    "    plt.show()"
   ]
  },
  {
   "cell_type": "code",
   "execution_count": 12,
   "id": "e6eb8122",
   "metadata": {},
   "outputs": [],
   "source": [
    "def custom_bar(xlabel,ylabel):\n",
    "\n",
    "    for i in ax.containers:\n",
    "        ax.bar_label(i,)\n",
    "    plt.xticks(rotation=45)\n",
    "    plt.xlabel(xlabel)\n",
    "    plt.ylabel(ylabel)\n",
    "    plt.title(f\"Top 10 {ylabel}{xlabel}\",weight=\"bold\")\n",
    "    ax.axhline(0,color=\"k\",clip_on=False)\n",
    "    sns.despine(bottom=True)\n",
    "    plt.show()"
   ]
  },
  {
   "cell_type": "code",
   "execution_count": 13,
   "id": "1b4b98c6",
   "metadata": {},
   "outputs": [],
   "source": [
    "def sorting(col):\n",
    "    sort_values(by=col,ascending=False)"
   ]
  },
  {
   "cell_type": "code",
   "execution_count": 14,
   "id": "e5e1e546",
   "metadata": {},
   "outputs": [
    {
     "data": {
      "image/png": "[encoded data removed]",
      "text/plain": [
       "<Figure size 1500x700 with 1 Axes>"
      ]
     },
     "metadata": {},
     "output_type": "display_data"
    }
   ],
   "source": [
    "top_pace=total_mp_pace_raptor[[\"player_name\",\"Total_Pace_Impact\"]].sort_values(by=\"Total_Pace_Impact\",ascending=False)\n",
    "top_10_pace=top_pace.head(10)\n",
    "\n",
    "\n",
    "f, (ax) = plt.subplots(figsize=(15,7))\n",
    "sns.set_theme(style=\"white\", context=\"notebook\",font_scale=1.5)\n",
    "\n",
    "sns.barplot(x=\"player_name\",\n",
    "            y=\"Total_Pace_Impact\",\n",
    "            data=top_10_pace,\n",
    "            palette=\"autumn\",\n",
    "            alpha=0.7)\n",
    "\n",
    "for i in ax.containers:\n",
    "    ax.bar_label(i,)\n",
    "plt.xticks(rotation=45)\n",
    "plt.xlabel(\"Player Names\")\n",
    "plt.title(\"Top 10 Pace Impact per Player\",weight=\"bold\")\n",
    "ax.axhline(0,color=\"k\",clip_on=False)\n",
    "sns.despine(bottom=True)\n",
    "plt.show()"
   ]
  },
  {
   "cell_type": "code",
   "execution_count": 15,
   "id": "b52e1371",
   "metadata": {},
   "outputs": [
    {
     "data": {
      "image/png": "[encoded data removed]",
      "text/plain": [
       "<Figure size 1500x700 with 1 Axes>"
      ]
     },
     "metadata": {},
     "output_type": "display_data"
    }
   ],
   "source": [
    "top_mp=total_mp_pace_raptor[[\"player_name\",\"Total_Minutes_Played\"]].sort_values(by=\"Total_Minutes_Played\",ascending=False)\n",
    "top_10_mp=top_mp.head(10)\n",
    "\n",
    "f, (ax) = plt.subplots(figsize=(15,7))\n",
    "sns.set_theme(style=\"white\", context=\"notebook\",font_scale=1.5)\n",
    "\n",
    "sns.barplot(x=\"player_name\",\n",
    "            y=\"Total_Minutes_Played\",\n",
    "            data=top_10_mp,\n",
    "            palette=\"autumn\",\n",
    "            alpha=0.7)\n",
    "\n",
    "custom_bar(\"Player Name\",\"Total Minutes Played\")"
   ]
  },
  {
   "cell_type": "code",
   "execution_count": 16,
   "id": "891aefbf",
   "metadata": {},
   "outputs": [
    {
     "data": {
      "image/png": "[encoded data removed]",
      "text/plain": [
       "<Figure size 1500x700 with 1 Axes>"
      ]
     },
     "metadata": {},
     "output_type": "display_data"
    }
   ],
   "source": [
    "top_10_raptors=total_mp_pace_raptor[[\"player_name\",\"Total_RAPTOR_Scores\"]].sort_values(by=\"Total_RAPTOR_Scores\",ascending=False)\n",
    "top_10_raptors=top_10_raptors.head(10)\n",
    "\n",
    "f, (ax) = plt.subplots(figsize=(15,7))\n",
    "sns.set_theme(style=\"white\", context=\"notebook\",font_scale=1.5)\n",
    "\n",
    "sns.barplot(x=\"player_name\",\n",
    "            y=\"Total_RAPTOR_Scores\",\n",
    "            data=top_10_raptors,\n",
    "            palette=\"autumn\",\n",
    "            alpha=0.7)\n",
    "custom_bar(\"Player Name\",\"Total RAPTOR Scores\")"
   ]
  },
  {
   "cell_type": "code",
   "execution_count": 20,
   "id": "8a04faae",
   "metadata": {},
   "outputs": [
    {
     "data": {
      "text/html": [
       "<div>\n",
       "<style scoped>\n",
       "    .dataframe tbody tr th:only-of-type {\n",
       "        vertical-align: middle;\n",
       "    }\n",
       "\n",
       "    .dataframe tbody tr th {\n",
       "        vertical-align: top;\n",
       "    }\n",
       "\n",
       "    .dataframe thead th {\n",
       "        text-align: right;\n",
       "    }\n",
       "</style>\n",
       "<table border=\"1\" class=\"dataframe\">\n",
       "  <thead>\n",
       "    <tr style=\"text-align: right;\">\n",
       "      <th></th>\n",
       "      <th>player_name</th>\n",
       "      <th>Total_Minutes_Played</th>\n",
       "      <th>Total_Pace_Impact</th>\n",
       "      <th>Total_RAPTOR_Scores</th>\n",
       "    </tr>\n",
       "  </thead>\n",
       "  <tbody>\n",
       "    <tr>\n",
       "      <th>2176</th>\n",
       "      <td>LeBron James</td>\n",
       "      <td>65747</td>\n",
       "      <td>-3.999099</td>\n",
       "      <td>280.151964</td>\n",
       "    </tr>\n",
       "    <tr>\n",
       "      <th>1947</th>\n",
       "      <td>Karl Malone</td>\n",
       "      <td>62759</td>\n",
       "      <td>-5.570942</td>\n",
       "      <td>94.515798</td>\n",
       "    </tr>\n",
       "    <tr>\n",
       "      <th>2089</th>\n",
       "      <td>Kobe Bryant</td>\n",
       "      <td>57278</td>\n",
       "      <td>6.921152</td>\n",
       "      <td>120.162822</td>\n",
       "    </tr>\n",
       "    <tr>\n",
       "      <th>970</th>\n",
       "      <td>Dirk Nowitzki</td>\n",
       "      <td>57263</td>\n",
       "      <td>-15.395781</td>\n",
       "      <td>122.126837</td>\n",
       "    </tr>\n",
       "    <tr>\n",
       "      <th>3328</th>\n",
       "      <td>Tim Duncan</td>\n",
       "      <td>56738</td>\n",
       "      <td>-28.784702</td>\n",
       "      <td>187.131456</td>\n",
       "    </tr>\n",
       "  </tbody>\n",
       "</table>\n",
       "</div>"
      ],
      "text/plain": [
       "        player_name  Total_Minutes_Played  Total_Pace_Impact  \\\n",
       "2176   LeBron James                 65747          -3.999099   \n",
       "1947    Karl Malone                 62759          -5.570942   \n",
       "2089    Kobe Bryant                 57278           6.921152   \n",
       "970   Dirk Nowitzki                 57263         -15.395781   \n",
       "3328     Tim Duncan                 56738         -28.784702   \n",
       "\n",
       "      Total_RAPTOR_Scores  \n",
       "2176           280.151964  \n",
       "1947            94.515798  \n",
       "2089           120.162822  \n",
       "970            122.126837  \n",
       "3328           187.131456  "
      ]
     },
     "execution_count": 20,
     "metadata": {},
     "output_type": "execute_result"
    }
   ],
   "source": [
    "top_20_mp=total_mp_pace_raptor.sort_values(by=\"Total_Minutes_Played\",ascending=False)\n",
    "top_20_mp=top_20_mp.head(20)\n",
    "top_20_mp.head()"
   ]
  },
  {
   "cell_type": "code",
   "execution_count": 31,
   "id": "125a7b25",
   "metadata": {},
   "outputs": [
    {
     "data": {
      "image/png": "[encoded data removed]",
      "text/plain": [
       "<Figure size 500x500 with 1 Axes>"
      ]
     },
     "metadata": {},
     "output_type": "display_data"
    }
   ],
   "source": [
    "# x=top_20[\"Total RAPTOR Scores\"]\n",
    "# y=top_20[\"Total Minutes Played\"]\n",
    "# names=top_20[\"player_name\"]\n",
    "\n",
    "sns.set_theme(style=\"whitegrid\", context=\"notebook\")\n",
    "\n",
    "\n",
    "ax=sns.relplot(x=\"Total_RAPTOR_Scores\",\n",
    "              y=\"Total_Minutes_Played\",\n",
    "              size=\"Total_Minutes_Played\",\n",
    "              sizes=(40, 400),\n",
    "              data=top_20_mp,\n",
    "              hue=\"player_name\",\n",
    "              edgecolor=\"k\",\n",
    "              legend=False,\n",
    "              palette=\"Oranges\"\n",
    "             )\n",
    "# for line in range(0,top_20_mp.shape[0]):\n",
    "#      p1.text(top_20_mp.Total_RAPTOR_Scores[line]+0.01, top_20_mp.Total_Minutes_Played[line], \n",
    "#      top_20_mp.player_name[line], horizontalalignment='left', \n",
    "#      size='medium', color='black', weight='semibold')\n",
    "\n",
    "plt.title(\"RAPTOR Total vs. Minutes Played\")\n",
    "plt.show()\n",
    "\n",
    "# for name, txt in enumerate(names):\n",
    "#     plt.annotate(txt, (x[name], y[name]))"
   ]
  },
  {
   "cell_type": "code",
   "execution_count": 25,
   "id": "e4385d5c",
   "metadata": {},
   "outputs": [],
   "source": [
    "top_20_pace=total_mp_pace_raptor[[\"player_name\",\"Total_Pace_Impact\",\"Total_RAPTOR_Scores\"]].sort_values(by=\"Total_Pace_Impact\",ascending=False)\n",
    "top_20_pace=top_20_pace.head(20)\n"
   ]
  },
  {
   "cell_type": "code",
   "execution_count": 30,
   "id": "3eaa837a",
   "metadata": {},
   "outputs": [
    {
     "data": {
      "image/png": "[encoded data removed]",
      "text/plain": [
       "<Figure size 500x500 with 1 Axes>"
      ]
     },
     "metadata": {},
     "output_type": "display_data"
    }
   ],
   "source": [
    "sns.set_context(\"notebook\")\n",
    "\n",
    "sns.relplot(x=\"Total_RAPTOR_Scores\",\n",
    "           y=\"Total_Pace_Impact\",\n",
    "           hue=\"player_name\",\n",
    "           data=top_20_pace, \n",
    "           palette=\"autumn\",\n",
    "           sizes=(40, 400),\n",
    "           legend=False,\n",
    "           style=\"player_name\",\n",
    "           size=\"Total_Pace_Impact\",\n",
    "           )\n",
    "plt.show()"
   ]
  },
  {
   "cell_type": "code",
   "execution_count": null,
   "id": "fa416817",
   "metadata": {},
   "outputs": [],
   "source": []
  },
  {
   "cell_type": "code",
   "execution_count": 28,
   "id": "5f238e45",
   "metadata": {},
   "outputs": [
    {
     "data": {
      "image/png": "[encoded data removed]",
      "text/plain": [
       "<Figure size 600x600 with 1 Axes>"
      ]
     },
     "metadata": {},
     "output_type": "display_data"
    }
   ],
   "source": [
    "x_axis=avg_summary[\"Raptor Total\"]\n",
    "y_axis=avg_summary[\"Pace Impact\"]\n",
    "team_names = avg_summary[\"team\"]\n",
    "\n",
    "sns.set_theme(style=\"whitegrid\", context=\"notebook\")\n",
    "\n",
    "\n",
    "sns.relplot(x=x_axis,\n",
    "              y=y_axis,\n",
    "              size=y_axis,\n",
    "              hue=team_names,\n",
    "              sizes=(40, 400),              \n",
    "              data=avg_summary,\n",
    "              height=6,\n",
    "              edgecolor=\"k\",\n",
    "              legend=False,\n",
    "              palette=\"Oranges\"\n",
    "             )\n",
    "\n",
    "for team, txt in enumerate(team_names):\n",
    "    plt.annotate(txt, (x_axis[team], y_axis[team]))\n",
    "plt.title(\"RAPTOR Total vs. Pace Impact\")\n",
    "plt.show()"
   ]
  },
  {
   "cell_type": "code",
   "execution_count": 32,
   "id": "9e74320e",
   "metadata": {},
   "outputs": [
    {
     "data": {
      "text/html": [
       "<div>\n",
       "<style scoped>\n",
       "    .dataframe tbody tr th:only-of-type {\n",
       "        vertical-align: middle;\n",
       "    }\n",
       "\n",
       "    .dataframe tbody tr th {\n",
       "        vertical-align: top;\n",
       "    }\n",
       "\n",
       "    .dataframe thead th {\n",
       "        text-align: right;\n",
       "    }\n",
       "</style>\n",
       "<table border=\"1\" class=\"dataframe\">\n",
       "  <thead>\n",
       "    <tr style=\"text-align: right;\">\n",
       "      <th></th>\n",
       "      <th>player_name</th>\n",
       "      <th>Total_Minutes_Played</th>\n",
       "      <th>Total_Pace_Impact</th>\n",
       "      <th>Total_RAPTOR_Scores</th>\n",
       "    </tr>\n",
       "  </thead>\n",
       "  <tbody>\n",
       "    <tr>\n",
       "      <th>2176</th>\n",
       "      <td>LeBron James</td>\n",
       "      <td>65747</td>\n",
       "      <td>-3.999099</td>\n",
       "      <td>280.151964</td>\n",
       "    </tr>\n",
       "    <tr>\n",
       "      <th>1947</th>\n",
       "      <td>Karl Malone</td>\n",
       "      <td>62759</td>\n",
       "      <td>-5.570942</td>\n",
       "      <td>94.515798</td>\n",
       "    </tr>\n",
       "    <tr>\n",
       "      <th>2089</th>\n",
       "      <td>Kobe Bryant</td>\n",
       "      <td>57278</td>\n",
       "      <td>6.921152</td>\n",
       "      <td>120.162822</td>\n",
       "    </tr>\n",
       "    <tr>\n",
       "      <th>970</th>\n",
       "      <td>Dirk Nowitzki</td>\n",
       "      <td>57263</td>\n",
       "      <td>-15.395781</td>\n",
       "      <td>122.126837</td>\n",
       "    </tr>\n",
       "    <tr>\n",
       "      <th>3328</th>\n",
       "      <td>Tim Duncan</td>\n",
       "      <td>56738</td>\n",
       "      <td>-28.784702</td>\n",
       "      <td>187.131456</td>\n",
       "    </tr>\n",
       "  </tbody>\n",
       "</table>\n",
       "</div>"
      ],
      "text/plain": [
       "        player_name  Total_Minutes_Played  Total_Pace_Impact  \\\n",
       "2176   LeBron James                 65747          -3.999099   \n",
       "1947    Karl Malone                 62759          -5.570942   \n",
       "2089    Kobe Bryant                 57278           6.921152   \n",
       "970   Dirk Nowitzki                 57263         -15.395781   \n",
       "3328     Tim Duncan                 56738         -28.784702   \n",
       "\n",
       "      Total_RAPTOR_Scores  \n",
       "2176           280.151964  \n",
       "1947            94.515798  \n",
       "2089           120.162822  \n",
       "970            122.126837  \n",
       "3328           187.131456  "
      ]
     },
     "execution_count": 32,
     "metadata": {},
     "output_type": "execute_result"
    }
   ],
   "source": []
  },
  {
   "cell_type": "code",
   "execution_count": 62,
   "id": "88576af6",
   "metadata": {},
   "outputs": [
    {
     "data": {
      "application/vnd.plotly.v1+json": {
       "config": {
        "plotlyServerURL": "https://plot.ly"
       },
       "data": [
        {
         "customdata": [
          [
           "LeBron James"
          ]
         ],
         "hovertemplate": "player_name=%{customdata[0]}<br>Total_RAPTOR_Scores=%{x}<br>Total_Minutes_Played=%{marker.size}<extra></extra>",
         "legendgroup": "LeBron James",
         "marker": {
          "color": "rgb(255,245,235)",
          "size": [
           65747
          ],
          "sizemode": "area",
          "sizeref": 164.3675,
          "symbol": "circle"
         },
         "mode": "markers",
         "name": "LeBron James",
         "orientation": "v",
         "showlegend": true,
         "type": "scatter",
         "x": [
          280.151964263
         ],
         "xaxis": "x",
         "y": [
          65747
         ],
         "yaxis": "y"
        },
        {
         "customdata": [
          [
           "Karl Malone"
          ]
         ],
         "hovertemplate": "player_name=%{customdata[0]}<br>Total_RAPTOR_Scores=%{x}<br>Total_Minutes_Played=%{marker.size}<extra></extra>",
         "legendgroup": "Karl Malone",
         "marker": {
          "color": "rgb(254,230,206)",
          "size": [
           62759
          ],
          "sizemode": "area",
          "sizeref": 164.3675,
          "symbol": "circle"
         },
         "mode": "markers",
         "name": "Karl Malone",
         "orientation": "v",
         "showlegend": true,
         "type": "scatter",
         "x": [
          94.515797513
         ],
         "xaxis": "x",
         "y": [
          62759
         ],
         "yaxis": "y"
        },
        {
         "customdata": [
          [
           "Kobe Bryant"
          ]
         ],
         "hovertemplate": "player_name=%{customdata[0]}<br>Total_RAPTOR_Scores=%{x}<br>Total_Minutes_Played=%{marker.size}<extra></extra>",
         "legendgroup": "Kobe Bryant",
         "marker": {
          "color": "rgb(253,208,162)",
          "size": [
           57278
          ],
          "sizemode": "area",
          "sizeref": 164.3675,
          "symbol": "circle"
         },
         "mode": "markers",
         "name": "Kobe Bryant",
         "orientation": "v",
         "showlegend": true,
         "type": "scatter",
         "x": [
          120.16282232900001
         ],
         "xaxis": "x",
         "y": [
          57278
         ],
         "yaxis": "y"
        },
        {
         "customdata": [
          [
           "Dirk Nowitzki"
          ]
         ],
         "hovertemplate": "player_name=%{customdata[0]}<br>Total_RAPTOR_Scores=%{x}<br>Total_Minutes_Played=%{marker.size}<extra></extra>",
         "legendgroup": "Dirk Nowitzki",
         "marker": {
          "color": "rgb(253,174,107)",
          "size": [
           57263
          ],
          "sizemode": "area",
          "sizeref": 164.3675,
          "symbol": "circle"
         },
         "mode": "markers",
         "name": "Dirk Nowitzki",
         "orientation": "v",
         "showlegend": true,
         "type": "scatter",
         "x": [
          122.126836585
         ],
         "xaxis": "x",
         "y": [
          57263
         ],
         "yaxis": "y"
        },
        {
         "customdata": [
          [
           "Tim Duncan"
          ]
         ],
         "hovertemplate": "player_name=%{customdata[0]}<br>Total_RAPTOR_Scores=%{x}<br>Total_Minutes_Played=%{marker.size}<extra></extra>",
         "legendgroup": "Tim Duncan",
         "marker": {
          "color": "rgb(253,141,60)",
          "size": [
           56738
          ],
          "sizemode": "area",
          "sizeref": 164.3675,
          "symbol": "circle"
         },
         "mode": "markers",
         "name": "Tim Duncan",
         "orientation": "v",
         "showlegend": true,
         "type": "scatter",
         "x": [
          187.13145611
         ],
         "xaxis": "x",
         "y": [
          56738
         ],
         "yaxis": "y"
        },
        {
         "customdata": [
          [
           "Jason Kidd"
          ]
         ],
         "hovertemplate": "player_name=%{customdata[0]}<br>Total_RAPTOR_Scores=%{x}<br>Total_Minutes_Played=%{marker.size}<extra></extra>",
         "legendgroup": "Jason Kidd",
         "marker": {
          "color": "rgb(241,105,19)",
          "size": [
           56199
          ],
          "sizemode": "area",
          "sizeref": 164.3675,
          "symbol": "circle"
         },
         "mode": "markers",
         "name": "Jason Kidd",
         "orientation": "v",
         "showlegend": true,
         "type": "scatter",
         "x": [
          181.60062333
         ],
         "xaxis": "x",
         "y": [
          56199
         ],
         "yaxis": "y"
        },
        {
         "customdata": [
          [
           "Kevin Garnett"
          ]
         ],
         "hovertemplate": "player_name=%{customdata[0]}<br>Total_RAPTOR_Scores=%{x}<br>Total_Minutes_Played=%{marker.size}<extra></extra>",
         "legendgroup": "Kevin Garnett",
         "marker": {
          "color": "rgb(217,72,1)",
          "size": [
           55701
          ],
          "sizemode": "area",
          "sizeref": 164.3675,
          "symbol": "circle"
         },
         "mode": "markers",
         "name": "Kevin Garnett",
         "orientation": "v",
         "showlegend": true,
         "type": "scatter",
         "x": [
          156.80821067
         ],
         "xaxis": "x",
         "y": [
          55701
         ],
         "yaxis": "y"
        },
        {
         "customdata": [
          [
           "Eddie Johnson"
          ]
         ],
         "hovertemplate": "player_name=%{customdata[0]}<br>Total_RAPTOR_Scores=%{x}<br>Total_Minutes_Played=%{marker.size}<extra></extra>",
         "legendgroup": "Eddie Johnson",
         "marker": {
          "color": "rgb(166,54,3)",
          "size": [
           55578
          ],
          "sizemode": "area",
          "sizeref": 164.3675,
          "symbol": "circle"
         },
         "mode": "markers",
         "name": "Eddie Johnson",
         "orientation": "v",
         "showlegend": true,
         "type": "scatter",
         "x": [
          -31.844547299
         ],
         "xaxis": "x",
         "y": [
          55578
         ],
         "yaxis": "y"
        },
        {
         "customdata": [
          [
           "John Stockton"
          ]
         ],
         "hovertemplate": "player_name=%{customdata[0]}<br>Total_RAPTOR_Scores=%{x}<br>Total_Minutes_Played=%{marker.size}<extra></extra>",
         "legendgroup": "John Stockton",
         "marker": {
          "color": "rgb(127,39,4)",
          "size": [
           54162
          ],
          "sizemode": "area",
          "sizeref": 164.3675,
          "symbol": "circle"
         },
         "mode": "markers",
         "name": "John Stockton",
         "orientation": "v",
         "showlegend": true,
         "type": "scatter",
         "x": [
          290.365205807
         ],
         "xaxis": "x",
         "y": [
          54162
         ],
         "yaxis": "y"
        },
        {
         "customdata": [
          [
           "Reggie Miller"
          ]
         ],
         "hovertemplate": "player_name=%{customdata[0]}<br>Total_RAPTOR_Scores=%{x}<br>Total_Minutes_Played=%{marker.size}<extra></extra>",
         "legendgroup": "Reggie Miller",
         "marker": {
          "color": "rgb(255,245,235)",
          "size": [
           52927
          ],
          "sizemode": "area",
          "sizeref": 164.3675,
          "symbol": "circle"
         },
         "mode": "markers",
         "name": "Reggie Miller",
         "orientation": "v",
         "showlegend": true,
         "type": "scatter",
         "x": [
          145.87084515
         ],
         "xaxis": "x",
         "y": [
          52927
         ],
         "yaxis": "y"
        },
        {
         "customdata": [
          [
           "Gary Payton"
          ]
         ],
         "hovertemplate": "player_name=%{customdata[0]}<br>Total_RAPTOR_Scores=%{x}<br>Total_Minutes_Played=%{marker.size}<extra></extra>",
         "legendgroup": "Gary Payton",
         "marker": {
          "color": "rgb(254,230,206)",
          "size": [
           52598
          ],
          "sizemode": "area",
          "sizeref": 164.3675,
          "symbol": "circle"
         },
         "mode": "markers",
         "name": "Gary Payton",
         "orientation": "v",
         "showlegend": true,
         "type": "scatter",
         "x": [
          81.371340704
         ],
         "xaxis": "x",
         "y": [
          52598
         ],
         "yaxis": "y"
        },
        {
         "customdata": [
          [
           "Ray Allen"
          ]
         ],
         "hovertemplate": "player_name=%{customdata[0]}<br>Total_RAPTOR_Scores=%{x}<br>Total_Minutes_Played=%{marker.size}<extra></extra>",
         "legendgroup": "Ray Allen",
         "marker": {
          "color": "rgb(253,208,162)",
          "size": [
           52408
          ],
          "sizemode": "area",
          "sizeref": 164.3675,
          "symbol": "circle"
         },
         "mode": "markers",
         "name": "Ray Allen",
         "orientation": "v",
         "showlegend": true,
         "type": "scatter",
         "x": [
          109.269041595
         ],
         "xaxis": "x",
         "y": [
          52408
         ],
         "yaxis": "y"
        },
        {
         "customdata": [
          [
           "Paul Pierce"
          ]
         ],
         "hovertemplate": "player_name=%{customdata[0]}<br>Total_RAPTOR_Scores=%{x}<br>Total_Minutes_Played=%{marker.size}<extra></extra>",
         "legendgroup": "Paul Pierce",
         "marker": {
          "color": "rgb(253,174,107)",
          "size": [
           52109
          ],
          "sizemode": "area",
          "sizeref": 164.3675,
          "symbol": "circle"
         },
         "mode": "markers",
         "name": "Paul Pierce",
         "orientation": "v",
         "showlegend": true,
         "type": "scatter",
         "x": [
          68.151563267
         ],
         "xaxis": "x",
         "y": [
          52109
         ],
         "yaxis": "y"
        },
        {
         "customdata": [
          [
           "Robert Parish"
          ]
         ],
         "hovertemplate": "player_name=%{customdata[0]}<br>Total_RAPTOR_Scores=%{x}<br>Total_Minutes_Played=%{marker.size}<extra></extra>",
         "legendgroup": "Robert Parish",
         "marker": {
          "color": "rgb(253,141,60)",
          "size": [
           51881
          ],
          "sizemode": "area",
          "sizeref": 164.3675,
          "symbol": "circle"
         },
         "mode": "markers",
         "name": "Robert Parish",
         "orientation": "v",
         "showlegend": true,
         "type": "scatter",
         "x": [
          33.183203141
         ],
         "xaxis": "x",
         "y": [
          51881
         ],
         "yaxis": "y"
        },
        {
         "customdata": [
          [
           "Shaquille O'Neal"
          ]
         ],
         "hovertemplate": "player_name=%{customdata[0]}<br>Total_RAPTOR_Scores=%{x}<br>Total_Minutes_Played=%{marker.size}<extra></extra>",
         "legendgroup": "Shaquille O'Neal",
         "marker": {
          "color": "rgb(241,105,19)",
          "size": [
           50016
          ],
          "sizemode": "area",
          "sizeref": 164.3675,
          "symbol": "circle"
         },
         "mode": "markers",
         "name": "Shaquille O'Neal",
         "orientation": "v",
         "showlegend": true,
         "type": "scatter",
         "x": [
          116.927664422
         ],
         "xaxis": "x",
         "y": [
          50016
         ],
         "yaxis": "y"
        },
        {
         "customdata": [
          [
           "Hakeem Olajuwon"
          ]
         ],
         "hovertemplate": "player_name=%{customdata[0]}<br>Total_RAPTOR_Scores=%{x}<br>Total_Minutes_Played=%{marker.size}<extra></extra>",
         "legendgroup": "Hakeem Olajuwon",
         "marker": {
          "color": "rgb(217,72,1)",
          "size": [
           49971
          ],
          "sizemode": "area",
          "sizeref": 164.3675,
          "symbol": "circle"
         },
         "mode": "markers",
         "name": "Hakeem Olajuwon",
         "orientation": "v",
         "showlegend": true,
         "type": "scatter",
         "x": [
          152.479390589
         ],
         "xaxis": "x",
         "y": [
          49971
         ],
         "yaxis": "y"
        },
        {
         "customdata": [
          [
           "Vince Carter"
          ]
         ],
         "hovertemplate": "player_name=%{customdata[0]}<br>Total_RAPTOR_Scores=%{x}<br>Total_Minutes_Played=%{marker.size}<extra></extra>",
         "legendgroup": "Vince Carter",
         "marker": {
          "color": "rgb(166,54,3)",
          "size": [
           49400
          ],
          "sizemode": "area",
          "sizeref": 164.3675,
          "symbol": "circle"
         },
         "mode": "markers",
         "name": "Vince Carter",
         "orientation": "v",
         "showlegend": true,
         "type": "scatter",
         "x": [
          80.553802539
         ],
         "xaxis": "x",
         "y": [
          49400
         ],
         "yaxis": "y"
        },
        {
         "customdata": [
          [
           "Scottie Pippen"
          ]
         ],
         "hovertemplate": "player_name=%{customdata[0]}<br>Total_RAPTOR_Scores=%{x}<br>Total_Minutes_Played=%{marker.size}<extra></extra>",
         "legendgroup": "Scottie Pippen",
         "marker": {
          "color": "rgb(127,39,4)",
          "size": [
           49174
          ],
          "sizemode": "area",
          "sizeref": 164.3675,
          "symbol": "circle"
         },
         "mode": "markers",
         "name": "Scottie Pippen",
         "orientation": "v",
         "showlegend": true,
         "type": "scatter",
         "x": [
          145.131607713
         ],
         "xaxis": "x",
         "y": [
          49174
         ],
         "yaxis": "y"
        },
        {
         "customdata": [
          [
           "Moses Malone"
          ]
         ],
         "hovertemplate": "player_name=%{customdata[0]}<br>Total_RAPTOR_Scores=%{x}<br>Total_Minutes_Played=%{marker.size}<extra></extra>",
         "legendgroup": "Moses Malone",
         "marker": {
          "color": "rgb(255,245,235)",
          "size": [
           48867
          ],
          "sizemode": "area",
          "sizeref": 164.3675,
          "symbol": "circle"
         },
         "mode": "markers",
         "name": "Moses Malone",
         "orientation": "v",
         "showlegend": true,
         "type": "scatter",
         "x": [
          44.482316616000006
         ],
         "xaxis": "x",
         "y": [
          48867
         ],
         "yaxis": "y"
        },
        {
         "customdata": [
          [
           "Joe Johnson"
          ]
         ],
         "hovertemplate": "player_name=%{customdata[0]}<br>Total_RAPTOR_Scores=%{x}<br>Total_Minutes_Played=%{marker.size}<extra></extra>",
         "legendgroup": "Joe Johnson",
         "marker": {
          "color": "rgb(254,230,206)",
          "size": [
           48500
          ],
          "sizemode": "area",
          "sizeref": 164.3675,
          "symbol": "circle"
         },
         "mode": "markers",
         "name": "Joe Johnson",
         "orientation": "v",
         "showlegend": true,
         "type": "scatter",
         "x": [
          -37.720407328
         ],
         "xaxis": "x",
         "y": [
          48500
         ],
         "yaxis": "y"
        }
       ],
       "layout": {
        "legend": {
         "itemsizing": "constant",
         "title": {
          "text": "player_name"
         },
         "tracegroupgap": 0
        },
        "margin": {
         "t": 60
        },
        "template": {
         "data": {
          "bar": [
           {
            "error_x": {
             "color": "#2a3f5f"
            },
            "error_y": {
             "color": "#2a3f5f"
            },
            "marker": {
             "line": {
              "color": "white",
              "width": 0.5
             },
             "pattern": {
              "fillmode": "overlay",
              "size": 10,
              "solidity": 0.2
             }
            },
            "type": "bar"
           }
          ],
          "barpolar": [
           {
            "marker": {
             "line": {
              "color": "white",
              "width": 0.5
             },
             "pattern": {
              "fillmode": "overlay",
              "size": 10,
              "solidity": 0.2
             }
            },
            "type": "barpolar"
           }
          ],
          "carpet": [
           {
            "aaxis": {
             "endlinecolor": "#2a3f5f",
             "gridcolor": "#C8D4E3",
             "linecolor": "#C8D4E3",
             "minorgridcolor": "#C8D4E3",
             "startlinecolor": "#2a3f5f"
            },
            "baxis": {
             "endlinecolor": "#2a3f5f",
             "gridcolor": "#C8D4E3",
             "linecolor": "#C8D4E3",
             "minorgridcolor": "#C8D4E3",
             "startlinecolor": "#2a3f5f"
            },
            "type": "carpet"
           }
          ],
          "choropleth": [
           {
            "colorbar": {
             "outlinewidth": 0,
             "ticks": ""
            },
            "type": "choropleth"
           }
          ],
          "contour": [
           {
            "colorbar": {
             "outlinewidth": 0,
             "ticks": ""
            },
            "colorscale": [
             [
              0,
              "#0d0887"
             ],
             [
              0.1111111111111111,
              "#46039f"
             ],
             [
              0.2222222222222222,
              "#7201a8"
             ],
             [
              0.3333333333333333,
              "#9c179e"
             ],
             [
              0.4444444444444444,
              "#bd3786"
             ],
             [
              0.5555555555555556,
              "#d8576b"
             ],
             [
              0.6666666666666666,
              "#ed7953"
             ],
             [
              0.7777777777777778,
              "#fb9f3a"
             ],
             [
              0.8888888888888888,
              "#fdca26"
             ],
             [
              1,
              "#f0f921"
             ]
            ],
            "type": "contour"
           }
          ],
          "contourcarpet": [
           {
            "colorbar": {
             "outlinewidth": 0,
             "ticks": ""
            },
            "type": "contourcarpet"
           }
          ],
          "heatmap": [
           {
            "colorbar": {
             "outlinewidth": 0,
             "ticks": ""
            },
            "colorscale": [
             [
              0,
              "#0d0887"
             ],
             [
              0.1111111111111111,
              "#46039f"
             ],
             [
              0.2222222222222222,
              "#7201a8"
             ],
             [
              0.3333333333333333,
              "#9c179e"
             ],
             [
              0.4444444444444444,
              "#bd3786"
             ],
             [
              0.5555555555555556,
              "#d8576b"
             ],
             [
              0.6666666666666666,
              "#ed7953"
             ],
             [
              0.7777777777777778,
              "#fb9f3a"
             ],
             [
              0.8888888888888888,
              "#fdca26"
             ],
             [
              1,
              "#f0f921"
             ]
            ],
            "type": "heatmap"
           }
          ],
          "heatmapgl": [
           {
            "colorbar": {
             "outlinewidth": 0,
             "ticks": ""
            },
            "colorscale": [
             [
              0,
              "#0d0887"
             ],
             [
              0.1111111111111111,
              "#46039f"
             ],
             [
              0.2222222222222222,
              "#7201a8"
             ],
             [
              0.3333333333333333,
              "#9c179e"
             ],
             [
              0.4444444444444444,
              "#bd3786"
             ],
             [
              0.5555555555555556,
              "#d8576b"
             ],
             [
              0.6666666666666666,
              "#ed7953"
             ],
             [
              0.7777777777777778,
              "#fb9f3a"
             ],
             [
              0.8888888888888888,
              "#fdca26"
             ],
             [
              1,
              "#f0f921"
             ]
            ],
            "type": "heatmapgl"
           }
          ],
          "histogram": [
           {
            "marker": {
             "pattern": {
              "fillmode": "overlay",
              "size": 10,
              "solidity": 0.2
             }
            },
            "type": "histogram"
           }
          ],
          "histogram2d": [
           {
            "colorbar": {
             "outlinewidth": 0,
             "ticks": ""
            },
            "colorscale": [
             [
              0,
              "#0d0887"
             ],
             [
              0.1111111111111111,
              "#46039f"
             ],
             [
              0.2222222222222222,
              "#7201a8"
             ],
             [
              0.3333333333333333,
              "#9c179e"
             ],
             [
              0.4444444444444444,
              "#bd3786"
             ],
             [
              0.5555555555555556,
              "#d8576b"
             ],
             [
              0.6666666666666666,
              "#ed7953"
             ],
             [
              0.7777777777777778,
              "#fb9f3a"
             ],
             [
              0.8888888888888888,
              "#fdca26"
             ],
             [
              1,
              "#f0f921"
             ]
            ],
            "type": "histogram2d"
           }
          ],
          "histogram2dcontour": [
           {
            "colorbar": {
             "outlinewidth": 0,
             "ticks": ""
            },
            "colorscale": [
             [
              0,
              "#0d0887"
             ],
             [
              0.1111111111111111,
              "#46039f"
             ],
             [
              0.2222222222222222,
              "#7201a8"
             ],
             [
              0.3333333333333333,
              "#9c179e"
             ],
             [
              0.4444444444444444,
              "#bd3786"
             ],
             [
              0.5555555555555556,
              "#d8576b"
             ],
             [
              0.6666666666666666,
              "#ed7953"
             ],
             [
              0.7777777777777778,
              "#fb9f3a"
             ],
             [
              0.8888888888888888,
              "#fdca26"
             ],
             [
              1,
              "#f0f921"
             ]
            ],
            "type": "histogram2dcontour"
           }
          ],
          "mesh3d": [
           {
            "colorbar": {
             "outlinewidth": 0,
             "ticks": ""
            },
            "type": "mesh3d"
           }
          ],
          "parcoords": [
           {
            "line": {
             "colorbar": {
              "outlinewidth": 0,
              "ticks": ""
             }
            },
            "type": "parcoords"
           }
          ],
          "pie": [
           {
            "automargin": true,
            "type": "pie"
           }
          ],
          "scatter": [
           {
            "fillpattern": {
             "fillmode": "overlay",
             "size": 10,
             "solidity": 0.2
            },
            "type": "scatter"
           }
          ],
          "scatter3d": [
           {
            "line": {
             "colorbar": {
              "outlinewidth": 0,
              "ticks": ""
             }
            },
            "marker": {
             "colorbar": {
              "outlinewidth": 0,
              "ticks": ""
             }
            },
            "type": "scatter3d"
           }
          ],
          "scattercarpet": [
           {
            "marker": {
             "colorbar": {
              "outlinewidth": 0,
              "ticks": ""
             }
            },
            "type": "scattercarpet"
           }
          ],
          "scattergeo": [
           {
            "marker": {
             "colorbar": {
              "outlinewidth": 0,
              "ticks": ""
             }
            },
            "type": "scattergeo"
           }
          ],
          "scattergl": [
           {
            "marker": {
             "colorbar": {
              "outlinewidth": 0,
              "ticks": ""
             }
            },
            "type": "scattergl"
           }
          ],
          "scattermapbox": [
           {
            "marker": {
             "colorbar": {
              "outlinewidth": 0,
              "ticks": ""
             }
            },
            "type": "scattermapbox"
           }
          ],
          "scatterpolar": [
           {
            "marker": {
             "colorbar": {
              "outlinewidth": 0,
              "ticks": ""
             }
            },
            "type": "scatterpolar"
           }
          ],
          "scatterpolargl": [
           {
            "marker": {
             "colorbar": {
              "outlinewidth": 0,
              "ticks": ""
             }
            },
            "type": "scatterpolargl"
           }
          ],
          "scatterternary": [
           {
            "marker": {
             "colorbar": {
              "outlinewidth": 0,
              "ticks": ""
             }
            },
            "type": "scatterternary"
           }
          ],
          "surface": [
           {
            "colorbar": {
             "outlinewidth": 0,
             "ticks": ""
            },
            "colorscale": [
             [
              0,
              "#0d0887"
             ],
             [
              0.1111111111111111,
              "#46039f"
             ],
             [
              0.2222222222222222,
              "#7201a8"
             ],
             [
              0.3333333333333333,
              "#9c179e"
             ],
             [
              0.4444444444444444,
              "#bd3786"
             ],
             [
              0.5555555555555556,
              "#d8576b"
             ],
             [
              0.6666666666666666,
              "#ed7953"
             ],
             [
              0.7777777777777778,
              "#fb9f3a"
             ],
             [
              0.8888888888888888,
              "#fdca26"
             ],
             [
              1,
              "#f0f921"
             ]
            ],
            "type": "surface"
           }
          ],
          "table": [
           {
            "cells": {
             "fill": {
              "color": "#EBF0F8"
             },
             "line": {
              "color": "white"
             }
            },
            "header": {
             "fill": {
              "color": "#C8D4E3"
             },
             "line": {
              "color": "white"
             }
            },
            "type": "table"
           }
          ]
         },
         "layout": {
          "annotationdefaults": {
           "arrowcolor": "#2a3f5f",
           "arrowhead": 0,
           "arrowwidth": 1
          },
          "autotypenumbers": "strict",
          "coloraxis": {
           "colorbar": {
            "outlinewidth": 0,
            "ticks": ""
           }
          },
          "colorscale": {
           "diverging": [
            [
             0,
             "#8e0152"
            ],
            [
             0.1,
             "#c51b7d"
            ],
            [
             0.2,
             "#de77ae"
            ],
            [
             0.3,
             "#f1b6da"
            ],
            [
             0.4,
             "#fde0ef"
            ],
            [
             0.5,
             "#f7f7f7"
            ],
            [
             0.6,
             "#e6f5d0"
            ],
            [
             0.7,
             "#b8e186"
            ],
            [
             0.8,
             "#7fbc41"
            ],
            [
             0.9,
             "#4d9221"
            ],
            [
             1,
             "#276419"
            ]
           ],
           "sequential": [
            [
             0,
             "#0d0887"
            ],
            [
             0.1111111111111111,
             "#46039f"
            ],
            [
             0.2222222222222222,
             "#7201a8"
            ],
            [
             0.3333333333333333,
             "#9c179e"
            ],
            [
             0.4444444444444444,
             "#bd3786"
            ],
            [
             0.5555555555555556,
             "#d8576b"
            ],
            [
             0.6666666666666666,
             "#ed7953"
            ],
            [
             0.7777777777777778,
             "#fb9f3a"
            ],
            [
             0.8888888888888888,
             "#fdca26"
            ],
            [
             1,
             "#f0f921"
            ]
           ],
           "sequentialminus": [
            [
             0,
             "#0d0887"
            ],
            [
             0.1111111111111111,
             "#46039f"
            ],
            [
             0.2222222222222222,
             "#7201a8"
            ],
            [
             0.3333333333333333,
             "#9c179e"
            ],
            [
             0.4444444444444444,
             "#bd3786"
            ],
            [
             0.5555555555555556,
             "#d8576b"
            ],
            [
             0.6666666666666666,
             "#ed7953"
            ],
            [
             0.7777777777777778,
             "#fb9f3a"
            ],
            [
             0.8888888888888888,
             "#fdca26"
            ],
            [
             1,
             "#f0f921"
            ]
           ]
          },
          "colorway": [
           "#636efa",
           "#EF553B",
           "#00cc96",
           "#ab63fa",
           "#FFA15A",
           "#19d3f3",
           "#FF6692",
           "#B6E880",
           "#FF97FF",
           "#FECB52"
          ],
          "font": {
           "color": "#2a3f5f"
          },
          "geo": {
           "bgcolor": "white",
           "lakecolor": "white",
           "landcolor": "white",
           "showlakes": true,
           "showland": true,
           "subunitcolor": "#C8D4E3"
          },
          "hoverlabel": {
           "align": "left"
          },
          "hovermode": "closest",
          "mapbox": {
           "style": "light"
          },
          "paper_bgcolor": "white",
          "plot_bgcolor": "white",
          "polar": {
           "angularaxis": {
            "gridcolor": "#EBF0F8",
            "linecolor": "#EBF0F8",
            "ticks": ""
           },
           "bgcolor": "white",
           "radialaxis": {
            "gridcolor": "#EBF0F8",
            "linecolor": "#EBF0F8",
            "ticks": ""
           }
          },
          "scene": {
           "xaxis": {
            "backgroundcolor": "white",
            "gridcolor": "#DFE8F3",
            "gridwidth": 2,
            "linecolor": "#EBF0F8",
            "showbackground": true,
            "ticks": "",
            "zerolinecolor": "#EBF0F8"
           },
           "yaxis": {
            "backgroundcolor": "white",
            "gridcolor": "#DFE8F3",
            "gridwidth": 2,
            "linecolor": "#EBF0F8",
            "showbackground": true,
            "ticks": "",
            "zerolinecolor": "#EBF0F8"
           },
           "zaxis": {
            "backgroundcolor": "white",
            "gridcolor": "#DFE8F3",
            "gridwidth": 2,
            "linecolor": "#EBF0F8",
            "showbackground": true,
            "ticks": "",
            "zerolinecolor": "#EBF0F8"
           }
          },
          "shapedefaults": {
           "line": {
            "color": "#2a3f5f"
           }
          },
          "ternary": {
           "aaxis": {
            "gridcolor": "#DFE8F3",
            "linecolor": "#A2B1C6",
            "ticks": ""
           },
           "baxis": {
            "gridcolor": "#DFE8F3",
            "linecolor": "#A2B1C6",
            "ticks": ""
           },
           "bgcolor": "white",
           "caxis": {
            "gridcolor": "#DFE8F3",
            "linecolor": "#A2B1C6",
            "ticks": ""
           }
          },
          "title": {
           "x": 0.05
          },
          "xaxis": {
           "automargin": true,
           "gridcolor": "#EBF0F8",
           "linecolor": "#EBF0F8",
           "ticks": "",
           "title": {
            "standoff": 15
           },
           "zerolinecolor": "#EBF0F8",
           "zerolinewidth": 2
          },
          "yaxis": {
           "automargin": true,
           "gridcolor": "#EBF0F8",
           "linecolor": "#EBF0F8",
           "ticks": "",
           "title": {
            "standoff": 15
           },
           "zerolinecolor": "#EBF0F8",
           "zerolinewidth": 2
          }
         }
        },
        "xaxis": {
         "anchor": "y",
         "domain": [
          0,
          1
         ],
         "title": {
          "text": "Total_RAPTOR_Scores"
         }
        },
        "yaxis": {
         "anchor": "x",
         "domain": [
          0,
          1
         ],
         "title": {
          "text": "Total_Minutes_Played"
         }
        }
       }
      },
      "text/html": [
       "<div>                            <div id=\"f53ec934-468c-4c39-a8ea-6a24d2eac897\" class=\"plotly-graph-div\" style=\"height:525px; width:100%;\"></div>            <script type=\"text/javascript\">                require([\"plotly\"], function(Plotly) {                    window.PLOTLYENV=window.PLOTLYENV || {};                                    if (document.getElementById(\"f53ec934-468c-4c39-a8ea-6a24d2eac897\")) {                    Plotly.newPlot(                        \"f53ec934-468c-4c39-a8ea-6a24d2eac897\",                        [{\"customdata\":[[\"LeBron James\"]],\"hovertemplate\":\"player_name=%{customdata[0]}<br>Total_RAPTOR_Scores=%{x}<br>Total_Minutes_Played=%{marker.size}<extra></extra>\",\"legendgroup\":\"LeBron James\",\"marker\":{\"color\":\"rgb(255,245,235)\",\"size\":[65747],\"sizemode\":\"area\",\"sizeref\":164.3675,\"symbol\":\"circle\"},\"mode\":\"markers\",\"name\":\"LeBron James\",\"orientation\":\"v\",\"showlegend\":true,\"x\":[280.151964263],\"xaxis\":\"x\",\"y\":[65747],\"yaxis\":\"y\",\"type\":\"scatter\"},{\"customdata\":[[\"Karl Malone\"]],\"hovertemplate\":\"player_name=%{customdata[0]}<br>Total_RAPTOR_Scores=%{x}<br>Total_Minutes_Played=%{marker.size}<extra></extra>\",\"legendgroup\":\"Karl Malone\",\"marker\":{\"color\":\"rgb(254,230,206)\",\"size\":[62759],\"sizemode\":\"area\",\"sizeref\":164.3675,\"symbol\":\"circle\"},\"mode\":\"markers\",\"name\":\"Karl Malone\",\"orientation\":\"v\",\"showlegend\":true,\"x\":[94.515797513],\"xaxis\":\"x\",\"y\":[62759],\"yaxis\":\"y\",\"type\":\"scatter\"},{\"customdata\":[[\"Kobe Bryant\"]],\"hovertemplate\":\"player_name=%{customdata[0]}<br>Total_RAPTOR_Scores=%{x}<br>Total_Minutes_Played=%{marker.size}<extra></extra>\",\"legendgroup\":\"Kobe Bryant\",\"marker\":{\"color\":\"rgb(253,208,162)\",\"size\":[57278],\"sizemode\":\"area\",\"sizeref\":164.3675,\"symbol\":\"circle\"},\"mode\":\"markers\",\"name\":\"Kobe Bryant\",\"orientation\":\"v\",\"showlegend\":true,\"x\":[120.16282232900001],\"xaxis\":\"x\",\"y\":[57278],\"yaxis\":\"y\",\"type\":\"scatter\"},{\"customdata\":[[\"Dirk Nowitzki\"]],\"hovertemplate\":\"player_name=%{customdata[0]}<br>Total_RAPTOR_Scores=%{x}<br>Total_Minutes_Played=%{marker.size}<extra></extra>\",\"legendgroup\":\"Dirk Nowitzki\",\"marker\":{\"color\":\"rgb(253,174,107)\",\"size\":[57263],\"sizemode\":\"area\",\"sizeref\":164.3675,\"symbol\":\"circle\"},\"mode\":\"markers\",\"name\":\"Dirk Nowitzki\",\"orientation\":\"v\",\"showlegend\":true,\"x\":[122.126836585],\"xaxis\":\"x\",\"y\":[57263],\"yaxis\":\"y\",\"type\":\"scatter\"},{\"customdata\":[[\"Tim Duncan\"]],\"hovertemplate\":\"player_name=%{customdata[0]}<br>Total_RAPTOR_Scores=%{x}<br>Total_Minutes_Played=%{marker.size}<extra></extra>\",\"legendgroup\":\"Tim Duncan\",\"marker\":{\"color\":\"rgb(253,141,60)\",\"size\":[56738],\"sizemode\":\"area\",\"sizeref\":164.3675,\"symbol\":\"circle\"},\"mode\":\"markers\",\"name\":\"Tim Duncan\",\"orientation\":\"v\",\"showlegend\":true,\"x\":[187.13145611],\"xaxis\":\"x\",\"y\":[56738],\"yaxis\":\"y\",\"type\":\"scatter\"},{\"customdata\":[[\"Jason Kidd\"]],\"hovertemplate\":\"player_name=%{customdata[0]}<br>Total_RAPTOR_Scores=%{x}<br>Total_Minutes_Played=%{marker.size}<extra></extra>\",\"legendgroup\":\"Jason Kidd\",\"marker\":{\"color\":\"rgb(241,105,19)\",\"size\":[56199],\"sizemode\":\"area\",\"sizeref\":164.3675,\"symbol\":\"circle\"},\"mode\":\"markers\",\"name\":\"Jason Kidd\",\"orientation\":\"v\",\"showlegend\":true,\"x\":[181.60062333],\"xaxis\":\"x\",\"y\":[56199],\"yaxis\":\"y\",\"type\":\"scatter\"},{\"customdata\":[[\"Kevin Garnett\"]],\"hovertemplate\":\"player_name=%{customdata[0]}<br>Total_RAPTOR_Scores=%{x}<br>Total_Minutes_Played=%{marker.size}<extra></extra>\",\"legendgroup\":\"Kevin Garnett\",\"marker\":{\"color\":\"rgb(217,72,1)\",\"size\":[55701],\"sizemode\":\"area\",\"sizeref\":164.3675,\"symbol\":\"circle\"},\"mode\":\"markers\",\"name\":\"Kevin Garnett\",\"orientation\":\"v\",\"showlegend\":true,\"x\":[156.80821067],\"xaxis\":\"x\",\"y\":[55701],\"yaxis\":\"y\",\"type\":\"scatter\"},{\"customdata\":[[\"Eddie Johnson\"]],\"hovertemplate\":\"player_name=%{customdata[0]}<br>Total_RAPTOR_Scores=%{x}<br>Total_Minutes_Played=%{marker.size}<extra></extra>\",\"legendgroup\":\"Eddie Johnson\",\"marker\":{\"color\":\"rgb(166,54,3)\",\"size\":[55578],\"sizemode\":\"area\",\"sizeref\":164.3675,\"symbol\":\"circle\"},\"mode\":\"markers\",\"name\":\"Eddie Johnson\",\"orientation\":\"v\",\"showlegend\":true,\"x\":[-31.844547299],\"xaxis\":\"x\",\"y\":[55578],\"yaxis\":\"y\",\"type\":\"scatter\"},{\"customdata\":[[\"John Stockton\"]],\"hovertemplate\":\"player_name=%{customdata[0]}<br>Total_RAPTOR_Scores=%{x}<br>Total_Minutes_Played=%{marker.size}<extra></extra>\",\"legendgroup\":\"John Stockton\",\"marker\":{\"color\":\"rgb(127,39,4)\",\"size\":[54162],\"sizemode\":\"area\",\"sizeref\":164.3675,\"symbol\":\"circle\"},\"mode\":\"markers\",\"name\":\"John Stockton\",\"orientation\":\"v\",\"showlegend\":true,\"x\":[290.365205807],\"xaxis\":\"x\",\"y\":[54162],\"yaxis\":\"y\",\"type\":\"scatter\"},{\"customdata\":[[\"Reggie Miller\"]],\"hovertemplate\":\"player_name=%{customdata[0]}<br>Total_RAPTOR_Scores=%{x}<br>Total_Minutes_Played=%{marker.size}<extra></extra>\",\"legendgroup\":\"Reggie Miller\",\"marker\":{\"color\":\"rgb(255,245,235)\",\"size\":[52927],\"sizemode\":\"area\",\"sizeref\":164.3675,\"symbol\":\"circle\"},\"mode\":\"markers\",\"name\":\"Reggie Miller\",\"orientation\":\"v\",\"showlegend\":true,\"x\":[145.87084515],\"xaxis\":\"x\",\"y\":[52927],\"yaxis\":\"y\",\"type\":\"scatter\"},{\"customdata\":[[\"Gary Payton\"]],\"hovertemplate\":\"player_name=%{customdata[0]}<br>Total_RAPTOR_Scores=%{x}<br>Total_Minutes_Played=%{marker.size}<extra></extra>\",\"legendgroup\":\"Gary Payton\",\"marker\":{\"color\":\"rgb(254,230,206)\",\"size\":[52598],\"sizemode\":\"area\",\"sizeref\":164.3675,\"symbol\":\"circle\"},\"mode\":\"markers\",\"name\":\"Gary Payton\",\"orientation\":\"v\",\"showlegend\":true,\"x\":[81.371340704],\"xaxis\":\"x\",\"y\":[52598],\"yaxis\":\"y\",\"type\":\"scatter\"},{\"customdata\":[[\"Ray Allen\"]],\"hovertemplate\":\"player_name=%{customdata[0]}<br>Total_RAPTOR_Scores=%{x}<br>Total_Minutes_Played=%{marker.size}<extra></extra>\",\"legendgroup\":\"Ray Allen\",\"marker\":{\"color\":\"rgb(253,208,162)\",\"size\":[52408],\"sizemode\":\"area\",\"sizeref\":164.3675,\"symbol\":\"circle\"},\"mode\":\"markers\",\"name\":\"Ray Allen\",\"orientation\":\"v\",\"showlegend\":true,\"x\":[109.269041595],\"xaxis\":\"x\",\"y\":[52408],\"yaxis\":\"y\",\"type\":\"scatter\"},{\"customdata\":[[\"Paul Pierce\"]],\"hovertemplate\":\"player_name=%{customdata[0]}<br>Total_RAPTOR_Scores=%{x}<br>Total_Minutes_Played=%{marker.size}<extra></extra>\",\"legendgroup\":\"Paul Pierce\",\"marker\":{\"color\":\"rgb(253,174,107)\",\"size\":[52109],\"sizemode\":\"area\",\"sizeref\":164.3675,\"symbol\":\"circle\"},\"mode\":\"markers\",\"name\":\"Paul Pierce\",\"orientation\":\"v\",\"showlegend\":true,\"x\":[68.151563267],\"xaxis\":\"x\",\"y\":[52109],\"yaxis\":\"y\",\"type\":\"scatter\"},{\"customdata\":[[\"Robert Parish\"]],\"hovertemplate\":\"player_name=%{customdata[0]}<br>Total_RAPTOR_Scores=%{x}<br>Total_Minutes_Played=%{marker.size}<extra></extra>\",\"legendgroup\":\"Robert Parish\",\"marker\":{\"color\":\"rgb(253,141,60)\",\"size\":[51881],\"sizemode\":\"area\",\"sizeref\":164.3675,\"symbol\":\"circle\"},\"mode\":\"markers\",\"name\":\"Robert Parish\",\"orientation\":\"v\",\"showlegend\":true,\"x\":[33.183203141],\"xaxis\":\"x\",\"y\":[51881],\"yaxis\":\"y\",\"type\":\"scatter\"},{\"customdata\":[[\"Shaquille O'Neal\"]],\"hovertemplate\":\"player_name=%{customdata[0]}<br>Total_RAPTOR_Scores=%{x}<br>Total_Minutes_Played=%{marker.size}<extra></extra>\",\"legendgroup\":\"Shaquille O'Neal\",\"marker\":{\"color\":\"rgb(241,105,19)\",\"size\":[50016],\"sizemode\":\"area\",\"sizeref\":164.3675,\"symbol\":\"circle\"},\"mode\":\"markers\",\"name\":\"Shaquille O'Neal\",\"orientation\":\"v\",\"showlegend\":true,\"x\":[116.927664422],\"xaxis\":\"x\",\"y\":[50016],\"yaxis\":\"y\",\"type\":\"scatter\"},{\"customdata\":[[\"Hakeem Olajuwon\"]],\"hovertemplate\":\"player_name=%{customdata[0]}<br>Total_RAPTOR_Scores=%{x}<br>Total_Minutes_Played=%{marker.size}<extra></extra>\",\"legendgroup\":\"Hakeem Olajuwon\",\"marker\":{\"color\":\"rgb(217,72,1)\",\"size\":[49971],\"sizemode\":\"area\",\"sizeref\":164.3675,\"symbol\":\"circle\"},\"mode\":\"markers\",\"name\":\"Hakeem Olajuwon\",\"orientation\":\"v\",\"showlegend\":true,\"x\":[152.479390589],\"xaxis\":\"x\",\"y\":[49971],\"yaxis\":\"y\",\"type\":\"scatter\"},{\"customdata\":[[\"Vince Carter\"]],\"hovertemplate\":\"player_name=%{customdata[0]}<br>Total_RAPTOR_Scores=%{x}<br>Total_Minutes_Played=%{marker.size}<extra></extra>\",\"legendgroup\":\"Vince Carter\",\"marker\":{\"color\":\"rgb(166,54,3)\",\"size\":[49400],\"sizemode\":\"area\",\"sizeref\":164.3675,\"symbol\":\"circle\"},\"mode\":\"markers\",\"name\":\"Vince Carter\",\"orientation\":\"v\",\"showlegend\":true,\"x\":[80.553802539],\"xaxis\":\"x\",\"y\":[49400],\"yaxis\":\"y\",\"type\":\"scatter\"},{\"customdata\":[[\"Scottie Pippen\"]],\"hovertemplate\":\"player_name=%{customdata[0]}<br>Total_RAPTOR_Scores=%{x}<br>Total_Minutes_Played=%{marker.size}<extra></extra>\",\"legendgroup\":\"Scottie Pippen\",\"marker\":{\"color\":\"rgb(127,39,4)\",\"size\":[49174],\"sizemode\":\"area\",\"sizeref\":164.3675,\"symbol\":\"circle\"},\"mode\":\"markers\",\"name\":\"Scottie Pippen\",\"orientation\":\"v\",\"showlegend\":true,\"x\":[145.131607713],\"xaxis\":\"x\",\"y\":[49174],\"yaxis\":\"y\",\"type\":\"scatter\"},{\"customdata\":[[\"Moses Malone\"]],\"hovertemplate\":\"player_name=%{customdata[0]}<br>Total_RAPTOR_Scores=%{x}<br>Total_Minutes_Played=%{marker.size}<extra></extra>\",\"legendgroup\":\"Moses Malone\",\"marker\":{\"color\":\"rgb(255,245,235)\",\"size\":[48867],\"sizemode\":\"area\",\"sizeref\":164.3675,\"symbol\":\"circle\"},\"mode\":\"markers\",\"name\":\"Moses Malone\",\"orientation\":\"v\",\"showlegend\":true,\"x\":[44.482316616000006],\"xaxis\":\"x\",\"y\":[48867],\"yaxis\":\"y\",\"type\":\"scatter\"},{\"customdata\":[[\"Joe Johnson\"]],\"hovertemplate\":\"player_name=%{customdata[0]}<br>Total_RAPTOR_Scores=%{x}<br>Total_Minutes_Played=%{marker.size}<extra></extra>\",\"legendgroup\":\"Joe Johnson\",\"marker\":{\"color\":\"rgb(254,230,206)\",\"size\":[48500],\"sizemode\":\"area\",\"sizeref\":164.3675,\"symbol\":\"circle\"},\"mode\":\"markers\",\"name\":\"Joe Johnson\",\"orientation\":\"v\",\"showlegend\":true,\"x\":[-37.720407328],\"xaxis\":\"x\",\"y\":[48500],\"yaxis\":\"y\",\"type\":\"scatter\"}],                        {\"template\":{\"data\":{\"barpolar\":[{\"marker\":{\"line\":{\"color\":\"white\",\"width\":0.5},\"pattern\":{\"fillmode\":\"overlay\",\"size\":10,\"solidity\":0.2}},\"type\":\"barpolar\"}],\"bar\":[{\"error_x\":{\"color\":\"#2a3f5f\"},\"error_y\":{\"color\":\"#2a3f5f\"},\"marker\":{\"line\":{\"color\":\"white\",\"width\":0.5},\"pattern\":{\"fillmode\":\"overlay\",\"size\":10,\"solidity\":0.2}},\"type\":\"bar\"}],\"carpet\":[{\"aaxis\":{\"endlinecolor\":\"#2a3f5f\",\"gridcolor\":\"#C8D4E3\",\"linecolor\":\"#C8D4E3\",\"minorgridcolor\":\"#C8D4E3\",\"startlinecolor\":\"#2a3f5f\"},\"baxis\":{\"endlinecolor\":\"#2a3f5f\",\"gridcolor\":\"#C8D4E3\",\"linecolor\":\"#C8D4E3\",\"minorgridcolor\":\"#C8D4E3\",\"startlinecolor\":\"#2a3f5f\"},\"type\":\"carpet\"}],\"choropleth\":[{\"colorbar\":{\"outlinewidth\":0,\"ticks\":\"\"},\"type\":\"choropleth\"}],\"contourcarpet\":[{\"colorbar\":{\"outlinewidth\":0,\"ticks\":\"\"},\"type\":\"contourcarpet\"}],\"contour\":[{\"colorbar\":{\"outlinewidth\":0,\"ticks\":\"\"},\"colorscale\":[[0.0,\"#0d0887\"],[0.1111111111111111,\"#46039f\"],[0.2222222222222222,\"#7201a8\"],[0.3333333333333333,\"#9c179e\"],[0.4444444444444444,\"#bd3786\"],[0.5555555555555556,\"#d8576b\"],[0.6666666666666666,\"#ed7953\"],[0.7777777777777778,\"#fb9f3a\"],[0.8888888888888888,\"#fdca26\"],[1.0,\"#f0f921\"]],\"type\":\"contour\"}],\"heatmapgl\":[{\"colorbar\":{\"outlinewidth\":0,\"ticks\":\"\"},\"colorscale\":[[0.0,\"#0d0887\"],[0.1111111111111111,\"#46039f\"],[0.2222222222222222,\"#7201a8\"],[0.3333333333333333,\"#9c179e\"],[0.4444444444444444,\"#bd3786\"],[0.5555555555555556,\"#d8576b\"],[0.6666666666666666,\"#ed7953\"],[0.7777777777777778,\"#fb9f3a\"],[0.8888888888888888,\"#fdca26\"],[1.0,\"#f0f921\"]],\"type\":\"heatmapgl\"}],\"heatmap\":[{\"colorbar\":{\"outlinewidth\":0,\"ticks\":\"\"},\"colorscale\":[[0.0,\"#0d0887\"],[0.1111111111111111,\"#46039f\"],[0.2222222222222222,\"#7201a8\"],[0.3333333333333333,\"#9c179e\"],[0.4444444444444444,\"#bd3786\"],[0.5555555555555556,\"#d8576b\"],[0.6666666666666666,\"#ed7953\"],[0.7777777777777778,\"#fb9f3a\"],[0.8888888888888888,\"#fdca26\"],[1.0,\"#f0f921\"]],\"type\":\"heatmap\"}],\"histogram2dcontour\":[{\"colorbar\":{\"outlinewidth\":0,\"ticks\":\"\"},\"colorscale\":[[0.0,\"#0d0887\"],[0.1111111111111111,\"#46039f\"],[0.2222222222222222,\"#7201a8\"],[0.3333333333333333,\"#9c179e\"],[0.4444444444444444,\"#bd3786\"],[0.5555555555555556,\"#d8576b\"],[0.6666666666666666,\"#ed7953\"],[0.7777777777777778,\"#fb9f3a\"],[0.8888888888888888,\"#fdca26\"],[1.0,\"#f0f921\"]],\"type\":\"histogram2dcontour\"}],\"histogram2d\":[{\"colorbar\":{\"outlinewidth\":0,\"ticks\":\"\"},\"colorscale\":[[0.0,\"#0d0887\"],[0.1111111111111111,\"#46039f\"],[0.2222222222222222,\"#7201a8\"],[0.3333333333333333,\"#9c179e\"],[0.4444444444444444,\"#bd3786\"],[0.5555555555555556,\"#d8576b\"],[0.6666666666666666,\"#ed7953\"],[0.7777777777777778,\"#fb9f3a\"],[0.8888888888888888,\"#fdca26\"],[1.0,\"#f0f921\"]],\"type\":\"histogram2d\"}],\"histogram\":[{\"marker\":{\"pattern\":{\"fillmode\":\"overlay\",\"size\":10,\"solidity\":0.2}},\"type\":\"histogram\"}],\"mesh3d\":[{\"colorbar\":{\"outlinewidth\":0,\"ticks\":\"\"},\"type\":\"mesh3d\"}],\"parcoords\":[{\"line\":{\"colorbar\":{\"outlinewidth\":0,\"ticks\":\"\"}},\"type\":\"parcoords\"}],\"pie\":[{\"automargin\":true,\"type\":\"pie\"}],\"scatter3d\":[{\"line\":{\"colorbar\":{\"outlinewidth\":0,\"ticks\":\"\"}},\"marker\":{\"colorbar\":{\"outlinewidth\":0,\"ticks\":\"\"}},\"type\":\"scatter3d\"}],\"scattercarpet\":[{\"marker\":{\"colorbar\":{\"outlinewidth\":0,\"ticks\":\"\"}},\"type\":\"scattercarpet\"}],\"scattergeo\":[{\"marker\":{\"colorbar\":{\"outlinewidth\":0,\"ticks\":\"\"}},\"type\":\"scattergeo\"}],\"scattergl\":[{\"marker\":{\"colorbar\":{\"outlinewidth\":0,\"ticks\":\"\"}},\"type\":\"scattergl\"}],\"scattermapbox\":[{\"marker\":{\"colorbar\":{\"outlinewidth\":0,\"ticks\":\"\"}},\"type\":\"scattermapbox\"}],\"scatterpolargl\":[{\"marker\":{\"colorbar\":{\"outlinewidth\":0,\"ticks\":\"\"}},\"type\":\"scatterpolargl\"}],\"scatterpolar\":[{\"marker\":{\"colorbar\":{\"outlinewidth\":0,\"ticks\":\"\"}},\"type\":\"scatterpolar\"}],\"scatter\":[{\"fillpattern\":{\"fillmode\":\"overlay\",\"size\":10,\"solidity\":0.2},\"type\":\"scatter\"}],\"scatterternary\":[{\"marker\":{\"colorbar\":{\"outlinewidth\":0,\"ticks\":\"\"}},\"type\":\"scatterternary\"}],\"surface\":[{\"colorbar\":{\"outlinewidth\":0,\"ticks\":\"\"},\"colorscale\":[[0.0,\"#0d0887\"],[0.1111111111111111,\"#46039f\"],[0.2222222222222222,\"#7201a8\"],[0.3333333333333333,\"#9c179e\"],[0.4444444444444444,\"#bd3786\"],[0.5555555555555556,\"#d8576b\"],[0.6666666666666666,\"#ed7953\"],[0.7777777777777778,\"#fb9f3a\"],[0.8888888888888888,\"#fdca26\"],[1.0,\"#f0f921\"]],\"type\":\"surface\"}],\"table\":[{\"cells\":{\"fill\":{\"color\":\"#EBF0F8\"},\"line\":{\"color\":\"white\"}},\"header\":{\"fill\":{\"color\":\"#C8D4E3\"},\"line\":{\"color\":\"white\"}},\"type\":\"table\"}]},\"layout\":{\"annotationdefaults\":{\"arrowcolor\":\"#2a3f5f\",\"arrowhead\":0,\"arrowwidth\":1},\"autotypenumbers\":\"strict\",\"coloraxis\":{\"colorbar\":{\"outlinewidth\":0,\"ticks\":\"\"}},\"colorscale\":{\"diverging\":[[0,\"#8e0152\"],[0.1,\"#c51b7d\"],[0.2,\"#de77ae\"],[0.3,\"#f1b6da\"],[0.4,\"#fde0ef\"],[0.5,\"#f7f7f7\"],[0.6,\"#e6f5d0\"],[0.7,\"#b8e186\"],[0.8,\"#7fbc41\"],[0.9,\"#4d9221\"],[1,\"#276419\"]],\"sequential\":[[0.0,\"#0d0887\"],[0.1111111111111111,\"#46039f\"],[0.2222222222222222,\"#7201a8\"],[0.3333333333333333,\"#9c179e\"],[0.4444444444444444,\"#bd3786\"],[0.5555555555555556,\"#d8576b\"],[0.6666666666666666,\"#ed7953\"],[0.7777777777777778,\"#fb9f3a\"],[0.8888888888888888,\"#fdca26\"],[1.0,\"#f0f921\"]],\"sequentialminus\":[[0.0,\"#0d0887\"],[0.1111111111111111,\"#46039f\"],[0.2222222222222222,\"#7201a8\"],[0.3333333333333333,\"#9c179e\"],[0.4444444444444444,\"#bd3786\"],[0.5555555555555556,\"#d8576b\"],[0.6666666666666666,\"#ed7953\"],[0.7777777777777778,\"#fb9f3a\"],[0.8888888888888888,\"#fdca26\"],[1.0,\"#f0f921\"]]},\"colorway\":[\"#636efa\",\"#EF553B\",\"#00cc96\",\"#ab63fa\",\"#FFA15A\",\"#19d3f3\",\"#FF6692\",\"#B6E880\",\"#FF97FF\",\"#FECB52\"],\"font\":{\"color\":\"#2a3f5f\"},\"geo\":{\"bgcolor\":\"white\",\"lakecolor\":\"white\",\"landcolor\":\"white\",\"showlakes\":true,\"showland\":true,\"subunitcolor\":\"#C8D4E3\"},\"hoverlabel\":{\"align\":\"left\"},\"hovermode\":\"closest\",\"mapbox\":{\"style\":\"light\"},\"paper_bgcolor\":\"white\",\"plot_bgcolor\":\"white\",\"polar\":{\"angularaxis\":{\"gridcolor\":\"#EBF0F8\",\"linecolor\":\"#EBF0F8\",\"ticks\":\"\"},\"bgcolor\":\"white\",\"radialaxis\":{\"gridcolor\":\"#EBF0F8\",\"linecolor\":\"#EBF0F8\",\"ticks\":\"\"}},\"scene\":{\"xaxis\":{\"backgroundcolor\":\"white\",\"gridcolor\":\"#DFE8F3\",\"gridwidth\":2,\"linecolor\":\"#EBF0F8\",\"showbackground\":true,\"ticks\":\"\",\"zerolinecolor\":\"#EBF0F8\"},\"yaxis\":{\"backgroundcolor\":\"white\",\"gridcolor\":\"#DFE8F3\",\"gridwidth\":2,\"linecolor\":\"#EBF0F8\",\"showbackground\":true,\"ticks\":\"\",\"zerolinecolor\":\"#EBF0F8\"},\"zaxis\":{\"backgroundcolor\":\"white\",\"gridcolor\":\"#DFE8F3\",\"gridwidth\":2,\"linecolor\":\"#EBF0F8\",\"showbackground\":true,\"ticks\":\"\",\"zerolinecolor\":\"#EBF0F8\"}},\"shapedefaults\":{\"line\":{\"color\":\"#2a3f5f\"}},\"ternary\":{\"aaxis\":{\"gridcolor\":\"#DFE8F3\",\"linecolor\":\"#A2B1C6\",\"ticks\":\"\"},\"baxis\":{\"gridcolor\":\"#DFE8F3\",\"linecolor\":\"#A2B1C6\",\"ticks\":\"\"},\"bgcolor\":\"white\",\"caxis\":{\"gridcolor\":\"#DFE8F3\",\"linecolor\":\"#A2B1C6\",\"ticks\":\"\"}},\"title\":{\"x\":0.05},\"xaxis\":{\"automargin\":true,\"gridcolor\":\"#EBF0F8\",\"linecolor\":\"#EBF0F8\",\"ticks\":\"\",\"title\":{\"standoff\":15},\"zerolinecolor\":\"#EBF0F8\",\"zerolinewidth\":2},\"yaxis\":{\"automargin\":true,\"gridcolor\":\"#EBF0F8\",\"linecolor\":\"#EBF0F8\",\"ticks\":\"\",\"title\":{\"standoff\":15},\"zerolinecolor\":\"#EBF0F8\",\"zerolinewidth\":2}}},\"xaxis\":{\"anchor\":\"y\",\"domain\":[0.0,1.0],\"title\":{\"text\":\"Total_RAPTOR_Scores\"}},\"yaxis\":{\"anchor\":\"x\",\"domain\":[0.0,1.0],\"title\":{\"text\":\"Total_Minutes_Played\"}},\"legend\":{\"title\":{\"text\":\"player_name\"},\"tracegroupgap\":0,\"itemsizing\":\"constant\"},\"margin\":{\"t\":60}},                        {\"responsive\": true}                    ).then(function(){\n",
       "                            \n",
       "var gd = document.getElementById('f53ec934-468c-4c39-a8ea-6a24d2eac897');\n",
       "var x = new MutationObserver(function (mutations, observer) {{\n",
       "        var display = window.getComputedStyle(gd).display;\n",
       "        if (!display || display === 'none') {{\n",
       "            console.log([gd, 'removed!']);\n",
       "            Plotly.purge(gd);\n",
       "            observer.disconnect();\n",
       "        }}\n",
       "}});\n",
       "\n",
       "// Listen for the removal of the full notebook cells\n",
       "var notebookContainer = gd.closest('#notebook-container');\n",
       "if (notebookContainer) {{\n",
       "    x.observe(notebookContainer, {childList: true});\n",
       "}}\n",
       "\n",
       "// Listen for the clearing of the current output cell\n",
       "var outputEl = gd.closest('.output');\n",
       "if (outputEl) {{\n",
       "    x.observe(outputEl, {childList: true});\n",
       "}}\n",
       "\n",
       "                        })                };                });            </script>        </div>"
      ]
     },
     "metadata": {},
     "output_type": "display_data"
    }
   ],
   "source": [
    "fig = px.scatter(top_20_mp,\n",
    "                 x=\"Total_RAPTOR_Scores\",\n",
    "                 y=\"Total_Minutes_Played\",\n",
    "                 color=\"player_name\",\n",
    "                 color_discrete_sequence=px.colors.sequential.Oranges,\n",
    "                 size='Total_Minutes_Played',\n",
    "                 template=\"plotly_white\",\n",
    "                 hover_data=['player_name'])\n",
    "# fig.update_traces(showlegend=False)\n",
    "fig.show()"
   ]
  },
  {
   "cell_type": "code",
   "execution_count": 74,
   "id": "104f36c7",
   "metadata": {},
   "outputs": [
    {
     "data": {
      "application/vnd.plotly.v1+json": {
       "config": {
        "plotlyServerURL": "https://plot.ly"
       },
       "data": [
        {
         "customdata": [
          [
           "Russell Westbrook"
          ]
         ],
         "hovertemplate": "player_name=%{customdata[0]}<br>Total_RAPTOR_Scores=%{x}<br>Total_Pace_Impact=%{marker.size}<extra></extra>",
         "legendgroup": "Russell Westbrook",
         "marker": {
          "color": "rgb(255,247,236)",
          "size": [
           45.33451493
          ],
          "sizemode": "area",
          "sizeref": 0.11333628732499999,
          "symbol": "circle"
         },
         "mode": "markers",
         "name": "Russell Westbrook",
         "orientation": "v",
         "showlegend": true,
         "type": "scatter",
         "x": [
          60.129429446
         ],
         "xaxis": "x",
         "y": [
          45.33451493
         ],
         "yaxis": "y"
        },
        {
         "customdata": [
          [
           "Stephen Curry"
          ]
         ],
         "hovertemplate": "player_name=%{customdata[0]}<br>Total_RAPTOR_Scores=%{x}<br>Total_Pace_Impact=%{marker.size}<extra></extra>",
         "legendgroup": "Stephen Curry",
         "marker": {
          "color": "rgb(254,232,200)",
          "size": [
           43.601669491
          ],
          "sizemode": "area",
          "sizeref": 0.11333628732499999,
          "symbol": "circle"
         },
         "mode": "markers",
         "name": "Stephen Curry",
         "orientation": "v",
         "showlegend": true,
         "type": "scatter",
         "x": [
          169.70555253499998
         ],
         "xaxis": "x",
         "y": [
          43.601669491
         ],
         "yaxis": "y"
        },
        {
         "customdata": [
          [
           "Chuck Nevitt"
          ]
         ],
         "hovertemplate": "player_name=%{customdata[0]}<br>Total_RAPTOR_Scores=%{x}<br>Total_Pace_Impact=%{marker.size}<extra></extra>",
         "legendgroup": "Chuck Nevitt",
         "marker": {
          "color": "rgb(253,212,158)",
          "size": [
           39.908693032
          ],
          "sizemode": "area",
          "sizeref": 0.11333628732499999,
          "symbol": "circle"
         },
         "mode": "markers",
         "name": "Chuck Nevitt",
         "orientation": "v",
         "showlegend": true,
         "type": "scatter",
         "x": [
          -136.243213891
         ],
         "xaxis": "x",
         "y": [
          39.908693032
         ],
         "yaxis": "y"
        },
        {
         "customdata": [
          [
           "Josh Davis"
          ]
         ],
         "hovertemplate": "player_name=%{customdata[0]}<br>Total_RAPTOR_Scores=%{x}<br>Total_Pace_Impact=%{marker.size}<extra></extra>",
         "legendgroup": "Josh Davis",
         "marker": {
          "color": "rgb(253,187,132)",
          "size": [
           34.512570384
          ],
          "sizemode": "area",
          "sizeref": 0.11333628732499999,
          "symbol": "circle"
         },
         "mode": "markers",
         "name": "Josh Davis",
         "orientation": "v",
         "showlegend": true,
         "type": "scatter",
         "x": [
          -28.658863902999997
         ],
         "xaxis": "x",
         "y": [
          34.512570384
         ],
         "yaxis": "y"
        },
        {
         "customdata": [
          [
           "Marc Iavaroni"
          ]
         ],
         "hovertemplate": "player_name=%{customdata[0]}<br>Total_RAPTOR_Scores=%{x}<br>Total_Pace_Impact=%{marker.size}<extra></extra>",
         "legendgroup": "Marc Iavaroni",
         "marker": {
          "color": "rgb(252,141,89)",
          "size": [
           31.297726469999997
          ],
          "sizemode": "area",
          "sizeref": 0.11333628732499999,
          "symbol": "circle"
         },
         "mode": "markers",
         "name": "Marc Iavaroni",
         "orientation": "v",
         "showlegend": true,
         "type": "scatter",
         "x": [
          -87.7677001
         ],
         "xaxis": "x",
         "y": [
          31.297726469999997
         ],
         "yaxis": "y"
        },
        {
         "customdata": [
          [
           "Charles Smith"
          ]
         ],
         "hovertemplate": "player_name=%{customdata[0]}<br>Total_RAPTOR_Scores=%{x}<br>Total_Pace_Impact=%{marker.size}<extra></extra>",
         "legendgroup": "Charles Smith",
         "marker": {
          "color": "rgb(239,101,72)",
          "size": [
           31.114410982
          ],
          "sizemode": "area",
          "sizeref": 0.11333628732499999,
          "symbol": "circle"
         },
         "mode": "markers",
         "name": "Charles Smith",
         "orientation": "v",
         "showlegend": true,
         "type": "scatter",
         "x": [
          -63.126242889000004
         ],
         "xaxis": "x",
         "y": [
          31.114410982
         ],
         "yaxis": "y"
        },
        {
         "customdata": [
          [
           "Mark West"
          ]
         ],
         "hovertemplate": "player_name=%{customdata[0]}<br>Total_RAPTOR_Scores=%{x}<br>Total_Pace_Impact=%{marker.size}<extra></extra>",
         "legendgroup": "Mark West",
         "marker": {
          "color": "rgb(215,48,31)",
          "size": [
           30.942662112
          ],
          "sizemode": "area",
          "sizeref": 0.11333628732499999,
          "symbol": "circle"
         },
         "mode": "markers",
         "name": "Mark West",
         "orientation": "v",
         "showlegend": true,
         "type": "scatter",
         "x": [
          -115.669412637
         ],
         "xaxis": "x",
         "y": [
          30.942662112
         ],
         "yaxis": "y"
        },
        {
         "customdata": [
          [
           "Darryl Dawkins"
          ]
         ],
         "hovertemplate": "player_name=%{customdata[0]}<br>Total_RAPTOR_Scores=%{x}<br>Total_Pace_Impact=%{marker.size}<extra></extra>",
         "legendgroup": "Darryl Dawkins",
         "marker": {
          "color": "rgb(179,0,0)",
          "size": [
           30.501349466
          ],
          "sizemode": "area",
          "sizeref": 0.11333628732499999,
          "symbol": "circle"
         },
         "mode": "markers",
         "name": "Darryl Dawkins",
         "orientation": "v",
         "showlegend": true,
         "type": "scatter",
         "x": [
          -64.036856703
         ],
         "xaxis": "x",
         "y": [
          30.501349466
         ],
         "yaxis": "y"
        },
        {
         "customdata": [
          [
           "Draymond Green"
          ]
         ],
         "hovertemplate": "player_name=%{customdata[0]}<br>Total_RAPTOR_Scores=%{x}<br>Total_Pace_Impact=%{marker.size}<extra></extra>",
         "legendgroup": "Draymond Green",
         "marker": {
          "color": "rgb(127,0,0)",
          "size": [
           30.027390226
          ],
          "sizemode": "area",
          "sizeref": 0.11333628732499999,
          "symbol": "circle"
         },
         "mode": "markers",
         "name": "Draymond Green",
         "orientation": "v",
         "showlegend": true,
         "type": "scatter",
         "x": [
          107.472972529
         ],
         "xaxis": "x",
         "y": [
          30.027390226
         ],
         "yaxis": "y"
        },
        {
         "customdata": [
          [
           "Travis Knight"
          ]
         ],
         "hovertemplate": "player_name=%{customdata[0]}<br>Total_RAPTOR_Scores=%{x}<br>Total_Pace_Impact=%{marker.size}<extra></extra>",
         "legendgroup": "Travis Knight",
         "marker": {
          "color": "rgb(255,247,236)",
          "size": [
           29.936174705
          ],
          "sizemode": "area",
          "sizeref": 0.11333628732499999,
          "symbol": "circle"
         },
         "mode": "markers",
         "name": "Travis Knight",
         "orientation": "v",
         "showlegend": true,
         "type": "scatter",
         "x": [
          -66.186943715
         ],
         "xaxis": "x",
         "y": [
          29.936174705
         ],
         "yaxis": "y"
        },
        {
         "customdata": [
          [
           "Manu Ginobili"
          ]
         ],
         "hovertemplate": "player_name=%{customdata[0]}<br>Total_RAPTOR_Scores=%{x}<br>Total_Pace_Impact=%{marker.size}<extra></extra>",
         "legendgroup": "Manu Ginobili",
         "marker": {
          "color": "rgb(254,232,200)",
          "size": [
           27.853007408
          ],
          "sizemode": "area",
          "sizeref": 0.11333628732499999,
          "symbol": "circle"
         },
         "mode": "markers",
         "name": "Manu Ginobili",
         "orientation": "v",
         "showlegend": true,
         "type": "scatter",
         "x": [
          185.421272752
         ],
         "xaxis": "x",
         "y": [
          27.853007408
         ],
         "yaxis": "y"
        },
        {
         "customdata": [
          [
           "Corey Brewer"
          ]
         ],
         "hovertemplate": "player_name=%{customdata[0]}<br>Total_RAPTOR_Scores=%{x}<br>Total_Pace_Impact=%{marker.size}<extra></extra>",
         "legendgroup": "Corey Brewer",
         "marker": {
          "color": "rgb(253,212,158)",
          "size": [
           27.501411622
          ],
          "sizemode": "area",
          "sizeref": 0.11333628732499999,
          "symbol": "circle"
         },
         "mode": "markers",
         "name": "Corey Brewer",
         "orientation": "v",
         "showlegend": true,
         "type": "scatter",
         "x": [
          13.511453145
         ],
         "xaxis": "x",
         "y": [
          27.501411622
         ],
         "yaxis": "y"
        },
        {
         "customdata": [
          [
           "Paul Mokeski"
          ]
         ],
         "hovertemplate": "player_name=%{customdata[0]}<br>Total_RAPTOR_Scores=%{x}<br>Total_Pace_Impact=%{marker.size}<extra></extra>",
         "legendgroup": "Paul Mokeski",
         "marker": {
          "color": "rgb(253,187,132)",
          "size": [
           27.473024408
          ],
          "sizemode": "area",
          "sizeref": 0.11333628732499999,
          "symbol": "circle"
         },
         "mode": "markers",
         "name": "Paul Mokeski",
         "orientation": "v",
         "showlegend": true,
         "type": "scatter",
         "x": [
          -50.79794544
         ],
         "xaxis": "x",
         "y": [
          27.473024408
         ],
         "yaxis": "y"
        },
        {
         "customdata": [
          [
           "Garrett Temple"
          ]
         ],
         "hovertemplate": "player_name=%{customdata[0]}<br>Total_RAPTOR_Scores=%{x}<br>Total_Pace_Impact=%{marker.size}<extra></extra>",
         "legendgroup": "Garrett Temple",
         "marker": {
          "color": "rgb(252,141,89)",
          "size": [
           27.467722622
          ],
          "sizemode": "area",
          "sizeref": 0.11333628732499999,
          "symbol": "circle"
         },
         "mode": "markers",
         "name": "Garrett Temple",
         "orientation": "v",
         "showlegend": true,
         "type": "scatter",
         "x": [
          -71.840297936
         ],
         "xaxis": "x",
         "y": [
          27.467722622
         ],
         "yaxis": "y"
        },
        {
         "customdata": [
          [
           "Kevin Durant"
          ]
         ],
         "hovertemplate": "player_name=%{customdata[0]}<br>Total_RAPTOR_Scores=%{x}<br>Total_Pace_Impact=%{marker.size}<extra></extra>",
         "legendgroup": "Kevin Durant",
         "marker": {
          "color": "rgb(239,101,72)",
          "size": [
           27.420260326
          ],
          "sizemode": "area",
          "sizeref": 0.11333628732499999,
          "symbol": "circle"
         },
         "mode": "markers",
         "name": "Kevin Durant",
         "orientation": "v",
         "showlegend": true,
         "type": "scatter",
         "x": [
          127.883598741
         ],
         "xaxis": "x",
         "y": [
          27.420260326
         ],
         "yaxis": "y"
        },
        {
         "customdata": [
          [
           "Jaren Jackson"
          ]
         ],
         "hovertemplate": "player_name=%{customdata[0]}<br>Total_RAPTOR_Scores=%{x}<br>Total_Pace_Impact=%{marker.size}<extra></extra>",
         "legendgroup": "Jaren Jackson",
         "marker": {
          "color": "rgb(215,48,31)",
          "size": [
           26.695466406
          ],
          "sizemode": "area",
          "sizeref": 0.11333628732499999,
          "symbol": "circle"
         },
         "mode": "markers",
         "name": "Jaren Jackson",
         "orientation": "v",
         "showlegend": true,
         "type": "scatter",
         "x": [
          -79.51184105
         ],
         "xaxis": "x",
         "y": [
          26.695466406
         ],
         "yaxis": "y"
        },
        {
         "customdata": [
          [
           "Greg Dreiling"
          ]
         ],
         "hovertemplate": "player_name=%{customdata[0]}<br>Total_RAPTOR_Scores=%{x}<br>Total_Pace_Impact=%{marker.size}<extra></extra>",
         "legendgroup": "Greg Dreiling",
         "marker": {
          "color": "rgb(179,0,0)",
          "size": [
           25.582214941
          ],
          "sizemode": "area",
          "sizeref": 0.11333628732499999,
          "symbol": "circle"
         },
         "mode": "markers",
         "name": "Greg Dreiling",
         "orientation": "v",
         "showlegend": true,
         "type": "scatter",
         "x": [
          -80.807455185
         ],
         "xaxis": "x",
         "y": [
          25.582214941
         ],
         "yaxis": "y"
        },
        {
         "customdata": [
          [
           "Eric Leckner"
          ]
         ],
         "hovertemplate": "player_name=%{customdata[0]}<br>Total_RAPTOR_Scores=%{x}<br>Total_Pace_Impact=%{marker.size}<extra></extra>",
         "legendgroup": "Eric Leckner",
         "marker": {
          "color": "rgb(127,0,0)",
          "size": [
           25.543006369
          ],
          "sizemode": "area",
          "sizeref": 0.11333628732499999,
          "symbol": "circle"
         },
         "mode": "markers",
         "name": "Eric Leckner",
         "orientation": "v",
         "showlegend": true,
         "type": "scatter",
         "x": [
          -109.249291423
         ],
         "xaxis": "x",
         "y": [
          25.543006369
         ],
         "yaxis": "y"
        },
        {
         "customdata": [
          [
           "Brian Cook"
          ]
         ],
         "hovertemplate": "player_name=%{customdata[0]}<br>Total_RAPTOR_Scores=%{x}<br>Total_Pace_Impact=%{marker.size}<extra></extra>",
         "legendgroup": "Brian Cook",
         "marker": {
          "color": "rgb(255,247,236)",
          "size": [
           23.918769879
          ],
          "sizemode": "area",
          "sizeref": 0.11333628732499999,
          "symbol": "circle"
         },
         "mode": "markers",
         "name": "Brian Cook",
         "orientation": "v",
         "showlegend": true,
         "type": "scatter",
         "x": [
          -71.894754038
         ],
         "xaxis": "x",
         "y": [
          23.918769879
         ],
         "yaxis": "y"
        },
        {
         "customdata": [
          [
           "Tim Thomas"
          ]
         ],
         "hovertemplate": "player_name=%{customdata[0]}<br>Total_RAPTOR_Scores=%{x}<br>Total_Pace_Impact=%{marker.size}<extra></extra>",
         "legendgroup": "Tim Thomas",
         "marker": {
          "color": "rgb(254,232,200)",
          "size": [
           23.900911441
          ],
          "sizemode": "area",
          "sizeref": 0.11333628732499999,
          "symbol": "circle"
         },
         "mode": "markers",
         "name": "Tim Thomas",
         "orientation": "v",
         "showlegend": true,
         "type": "scatter",
         "x": [
          -32.156072312
         ],
         "xaxis": "x",
         "y": [
          23.900911441
         ],
         "yaxis": "y"
        }
       ],
       "layout": {
        "legend": {
         "itemsizing": "constant",
         "title": {
          "text": "player_name"
         },
         "tracegroupgap": 0
        },
        "margin": {
         "t": 60
        },
        "template": {
         "data": {
          "bar": [
           {
            "error_x": {
             "color": "#2a3f5f"
            },
            "error_y": {
             "color": "#2a3f5f"
            },
            "marker": {
             "line": {
              "color": "white",
              "width": 0.5
             },
             "pattern": {
              "fillmode": "overlay",
              "size": 10,
              "solidity": 0.2
             }
            },
            "type": "bar"
           }
          ],
          "barpolar": [
           {
            "marker": {
             "line": {
              "color": "white",
              "width": 0.5
             },
             "pattern": {
              "fillmode": "overlay",
              "size": 10,
              "solidity": 0.2
             }
            },
            "type": "barpolar"
           }
          ],
          "carpet": [
           {
            "aaxis": {
             "endlinecolor": "#2a3f5f",
             "gridcolor": "#C8D4E3",
             "linecolor": "#C8D4E3",
             "minorgridcolor": "#C8D4E3",
             "startlinecolor": "#2a3f5f"
            },
            "baxis": {
             "endlinecolor": "#2a3f5f",
             "gridcolor": "#C8D4E3",
             "linecolor": "#C8D4E3",
             "minorgridcolor": "#C8D4E3",
             "startlinecolor": "#2a3f5f"
            },
            "type": "carpet"
           }
          ],
          "choropleth": [
           {
            "colorbar": {
             "outlinewidth": 0,
             "ticks": ""
            },
            "type": "choropleth"
           }
          ],
          "contour": [
           {
            "colorbar": {
             "outlinewidth": 0,
             "ticks": ""
            },
            "colorscale": [
             [
              0,
              "#0d0887"
             ],
             [
              0.1111111111111111,
              "#46039f"
             ],
             [
              0.2222222222222222,
              "#7201a8"
             ],
             [
              0.3333333333333333,
              "#9c179e"
             ],
             [
              0.4444444444444444,
              "#bd3786"
             ],
             [
              0.5555555555555556,
              "#d8576b"
             ],
             [
              0.6666666666666666,
              "#ed7953"
             ],
             [
              0.7777777777777778,
              "#fb9f3a"
             ],
             [
              0.8888888888888888,
              "#fdca26"
             ],
             [
              1,
              "#f0f921"
             ]
            ],
            "type": "contour"
           }
          ],
          "contourcarpet": [
           {
            "colorbar": {
             "outlinewidth": 0,
             "ticks": ""
            },
            "type": "contourcarpet"
           }
          ],
          "heatmap": [
           {
            "colorbar": {
             "outlinewidth": 0,
             "ticks": ""
            },
            "colorscale": [
             [
              0,
              "#0d0887"
             ],
             [
              0.1111111111111111,
              "#46039f"
             ],
             [
              0.2222222222222222,
              "#7201a8"
             ],
             [
              0.3333333333333333,
              "#9c179e"
             ],
             [
              0.4444444444444444,
              "#bd3786"
             ],
             [
              0.5555555555555556,
              "#d8576b"
             ],
             [
              0.6666666666666666,
              "#ed7953"
             ],
             [
              0.7777777777777778,
              "#fb9f3a"
             ],
             [
              0.8888888888888888,
              "#fdca26"
             ],
             [
              1,
              "#f0f921"
             ]
            ],
            "type": "heatmap"
           }
          ],
          "heatmapgl": [
           {
            "colorbar": {
             "outlinewidth": 0,
             "ticks": ""
            },
            "colorscale": [
             [
              0,
              "#0d0887"
             ],
             [
              0.1111111111111111,
              "#46039f"
             ],
             [
              0.2222222222222222,
              "#7201a8"
             ],
             [
              0.3333333333333333,
              "#9c179e"
             ],
             [
              0.4444444444444444,
              "#bd3786"
             ],
             [
              0.5555555555555556,
              "#d8576b"
             ],
             [
              0.6666666666666666,
              "#ed7953"
             ],
             [
              0.7777777777777778,
              "#fb9f3a"
             ],
             [
              0.8888888888888888,
              "#fdca26"
             ],
             [
              1,
              "#f0f921"
             ]
            ],
            "type": "heatmapgl"
           }
          ],
          "histogram": [
           {
            "marker": {
             "pattern": {
              "fillmode": "overlay",
              "size": 10,
              "solidity": 0.2
             }
            },
            "type": "histogram"
           }
          ],
          "histogram2d": [
           {
            "colorbar": {
             "outlinewidth": 0,
             "ticks": ""
            },
            "colorscale": [
             [
              0,
              "#0d0887"
             ],
             [
              0.1111111111111111,
              "#46039f"
             ],
             [
              0.2222222222222222,
              "#7201a8"
             ],
             [
              0.3333333333333333,
              "#9c179e"
             ],
             [
              0.4444444444444444,
              "#bd3786"
             ],
             [
              0.5555555555555556,
              "#d8576b"
             ],
             [
              0.6666666666666666,
              "#ed7953"
             ],
             [
              0.7777777777777778,
              "#fb9f3a"
             ],
             [
              0.8888888888888888,
              "#fdca26"
             ],
             [
              1,
              "#f0f921"
             ]
            ],
            "type": "histogram2d"
           }
          ],
          "histogram2dcontour": [
           {
            "colorbar": {
             "outlinewidth": 0,
             "ticks": ""
            },
            "colorscale": [
             [
              0,
              "#0d0887"
             ],
             [
              0.1111111111111111,
              "#46039f"
             ],
             [
              0.2222222222222222,
              "#7201a8"
             ],
             [
              0.3333333333333333,
              "#9c179e"
             ],
             [
              0.4444444444444444,
              "#bd3786"
             ],
             [
              0.5555555555555556,
              "#d8576b"
             ],
             [
              0.6666666666666666,
              "#ed7953"
             ],
             [
              0.7777777777777778,
              "#fb9f3a"
             ],
             [
              0.8888888888888888,
              "#fdca26"
             ],
             [
              1,
              "#f0f921"
             ]
            ],
            "type": "histogram2dcontour"
           }
          ],
          "mesh3d": [
           {
            "colorbar": {
             "outlinewidth": 0,
             "ticks": ""
            },
            "type": "mesh3d"
           }
          ],
          "parcoords": [
           {
            "line": {
             "colorbar": {
              "outlinewidth": 0,
              "ticks": ""
             }
            },
            "type": "parcoords"
           }
          ],
          "pie": [
           {
            "automargin": true,
            "type": "pie"
           }
          ],
          "scatter": [
           {
            "fillpattern": {
             "fillmode": "overlay",
             "size": 10,
             "solidity": 0.2
            },
            "type": "scatter"
           }
          ],
          "scatter3d": [
           {
            "line": {
             "colorbar": {
              "outlinewidth": 0,
              "ticks": ""
             }
            },
            "marker": {
             "colorbar": {
              "outlinewidth": 0,
              "ticks": ""
             }
            },
            "type": "scatter3d"
           }
          ],
          "scattercarpet": [
           {
            "marker": {
             "colorbar": {
              "outlinewidth": 0,
              "ticks": ""
             }
            },
            "type": "scattercarpet"
           }
          ],
          "scattergeo": [
           {
            "marker": {
             "colorbar": {
              "outlinewidth": 0,
              "ticks": ""
             }
            },
            "type": "scattergeo"
           }
          ],
          "scattergl": [
           {
            "marker": {
             "colorbar": {
              "outlinewidth": 0,
              "ticks": ""
             }
            },
            "type": "scattergl"
           }
          ],
          "scattermapbox": [
           {
            "marker": {
             "colorbar": {
              "outlinewidth": 0,
              "ticks": ""
             }
            },
            "type": "scattermapbox"
           }
          ],
          "scatterpolar": [
           {
            "marker": {
             "colorbar": {
              "outlinewidth": 0,
              "ticks": ""
             }
            },
            "type": "scatterpolar"
           }
          ],
          "scatterpolargl": [
           {
            "marker": {
             "colorbar": {
              "outlinewidth": 0,
              "ticks": ""
             }
            },
            "type": "scatterpolargl"
           }
          ],
          "scatterternary": [
           {
            "marker": {
             "colorbar": {
              "outlinewidth": 0,
              "ticks": ""
             }
            },
            "type": "scatterternary"
           }
          ],
          "surface": [
           {
            "colorbar": {
             "outlinewidth": 0,
             "ticks": ""
            },
            "colorscale": [
             [
              0,
              "#0d0887"
             ],
             [
              0.1111111111111111,
              "#46039f"
             ],
             [
              0.2222222222222222,
              "#7201a8"
             ],
             [
              0.3333333333333333,
              "#9c179e"
             ],
             [
              0.4444444444444444,
              "#bd3786"
             ],
             [
              0.5555555555555556,
              "#d8576b"
             ],
             [
              0.6666666666666666,
              "#ed7953"
             ],
             [
              0.7777777777777778,
              "#fb9f3a"
             ],
             [
              0.8888888888888888,
              "#fdca26"
             ],
             [
              1,
              "#f0f921"
             ]
            ],
            "type": "surface"
           }
          ],
          "table": [
           {
            "cells": {
             "fill": {
              "color": "#EBF0F8"
             },
             "line": {
              "color": "white"
             }
            },
            "header": {
             "fill": {
              "color": "#C8D4E3"
             },
             "line": {
              "color": "white"
             }
            },
            "type": "table"
           }
          ]
         },
         "layout": {
          "annotationdefaults": {
           "arrowcolor": "#2a3f5f",
           "arrowhead": 0,
           "arrowwidth": 1
          },
          "autotypenumbers": "strict",
          "coloraxis": {
           "colorbar": {
            "outlinewidth": 0,
            "ticks": ""
           }
          },
          "colorscale": {
           "diverging": [
            [
             0,
             "#8e0152"
            ],
            [
             0.1,
             "#c51b7d"
            ],
            [
             0.2,
             "#de77ae"
            ],
            [
             0.3,
             "#f1b6da"
            ],
            [
             0.4,
             "#fde0ef"
            ],
            [
             0.5,
             "#f7f7f7"
            ],
            [
             0.6,
             "#e6f5d0"
            ],
            [
             0.7,
             "#b8e186"
            ],
            [
             0.8,
             "#7fbc41"
            ],
            [
             0.9,
             "#4d9221"
            ],
            [
             1,
             "#276419"
            ]
           ],
           "sequential": [
            [
             0,
             "#0d0887"
            ],
            [
             0.1111111111111111,
             "#46039f"
            ],
            [
             0.2222222222222222,
             "#7201a8"
            ],
            [
             0.3333333333333333,
             "#9c179e"
            ],
            [
             0.4444444444444444,
             "#bd3786"
            ],
            [
             0.5555555555555556,
             "#d8576b"
            ],
            [
             0.6666666666666666,
             "#ed7953"
            ],
            [
             0.7777777777777778,
             "#fb9f3a"
            ],
            [
             0.8888888888888888,
             "#fdca26"
            ],
            [
             1,
             "#f0f921"
            ]
           ],
           "sequentialminus": [
            [
             0,
             "#0d0887"
            ],
            [
             0.1111111111111111,
             "#46039f"
            ],
            [
             0.2222222222222222,
             "#7201a8"
            ],
            [
             0.3333333333333333,
             "#9c179e"
            ],
            [
             0.4444444444444444,
             "#bd3786"
            ],
            [
             0.5555555555555556,
             "#d8576b"
            ],
            [
             0.6666666666666666,
             "#ed7953"
            ],
            [
             0.7777777777777778,
             "#fb9f3a"
            ],
            [
             0.8888888888888888,
             "#fdca26"
            ],
            [
             1,
             "#f0f921"
            ]
           ]
          },
          "colorway": [
           "#636efa",
           "#EF553B",
           "#00cc96",
           "#ab63fa",
           "#FFA15A",
           "#19d3f3",
           "#FF6692",
           "#B6E880",
           "#FF97FF",
           "#FECB52"
          ],
          "font": {
           "color": "#2a3f5f"
          },
          "geo": {
           "bgcolor": "white",
           "lakecolor": "white",
           "landcolor": "white",
           "showlakes": true,
           "showland": true,
           "subunitcolor": "#C8D4E3"
          },
          "hoverlabel": {
           "align": "left"
          },
          "hovermode": "closest",
          "mapbox": {
           "style": "light"
          },
          "paper_bgcolor": "white",
          "plot_bgcolor": "white",
          "polar": {
           "angularaxis": {
            "gridcolor": "#EBF0F8",
            "linecolor": "#EBF0F8",
            "ticks": ""
           },
           "bgcolor": "white",
           "radialaxis": {
            "gridcolor": "#EBF0F8",
            "linecolor": "#EBF0F8",
            "ticks": ""
           }
          },
          "scene": {
           "xaxis": {
            "backgroundcolor": "white",
            "gridcolor": "#DFE8F3",
            "gridwidth": 2,
            "linecolor": "#EBF0F8",
            "showbackground": true,
            "ticks": "",
            "zerolinecolor": "#EBF0F8"
           },
           "yaxis": {
            "backgroundcolor": "white",
            "gridcolor": "#DFE8F3",
            "gridwidth": 2,
            "linecolor": "#EBF0F8",
            "showbackground": true,
            "ticks": "",
            "zerolinecolor": "#EBF0F8"
           },
           "zaxis": {
            "backgroundcolor": "white",
            "gridcolor": "#DFE8F3",
            "gridwidth": 2,
            "linecolor": "#EBF0F8",
            "showbackground": true,
            "ticks": "",
            "zerolinecolor": "#EBF0F8"
           }
          },
          "shapedefaults": {
           "line": {
            "color": "#2a3f5f"
           }
          },
          "ternary": {
           "aaxis": {
            "gridcolor": "#DFE8F3",
            "linecolor": "#A2B1C6",
            "ticks": ""
           },
           "baxis": {
            "gridcolor": "#DFE8F3",
            "linecolor": "#A2B1C6",
            "ticks": ""
           },
           "bgcolor": "white",
           "caxis": {
            "gridcolor": "#DFE8F3",
            "linecolor": "#A2B1C6",
            "ticks": ""
           }
          },
          "title": {
           "x": 0.05
          },
          "xaxis": {
           "automargin": true,
           "gridcolor": "#EBF0F8",
           "linecolor": "#EBF0F8",
           "ticks": "",
           "title": {
            "standoff": 15
           },
           "zerolinecolor": "#EBF0F8",
           "zerolinewidth": 2
          },
          "yaxis": {
           "automargin": true,
           "gridcolor": "#EBF0F8",
           "linecolor": "#EBF0F8",
           "ticks": "",
           "title": {
            "standoff": 15
           },
           "zerolinecolor": "#EBF0F8",
           "zerolinewidth": 2
          }
         }
        },
        "xaxis": {
         "anchor": "y",
         "domain": [
          0,
          1
         ],
         "title": {
          "text": "Total_RAPTOR_Scores"
         }
        },
        "yaxis": {
         "anchor": "x",
         "domain": [
          0,
          1
         ],
         "title": {
          "text": "Total_Pace_Impact"
         }
        }
       }
      },
      "text/html": [
       "<div>                            <div id=\"de7845f1-71b3-438e-8e2a-643f784c9bb6\" class=\"plotly-graph-div\" style=\"height:525px; width:100%;\"></div>            <script type=\"text/javascript\">                require([\"plotly\"], function(Plotly) {                    window.PLOTLYENV=window.PLOTLYENV || {};                                    if (document.getElementById(\"de7845f1-71b3-438e-8e2a-643f784c9bb6\")) {                    Plotly.newPlot(                        \"de7845f1-71b3-438e-8e2a-643f784c9bb6\",                        [{\"customdata\":[[\"Russell Westbrook\"]],\"hovertemplate\":\"player_name=%{customdata[0]}<br>Total_RAPTOR_Scores=%{x}<br>Total_Pace_Impact=%{marker.size}<extra></extra>\",\"legendgroup\":\"Russell Westbrook\",\"marker\":{\"color\":\"rgb(255,247,236)\",\"size\":[45.33451493],\"sizemode\":\"area\",\"sizeref\":0.11333628732499999,\"symbol\":\"circle\"},\"mode\":\"markers\",\"name\":\"Russell Westbrook\",\"orientation\":\"v\",\"showlegend\":true,\"x\":[60.129429446],\"xaxis\":\"x\",\"y\":[45.33451493],\"yaxis\":\"y\",\"type\":\"scatter\"},{\"customdata\":[[\"Stephen Curry\"]],\"hovertemplate\":\"player_name=%{customdata[0]}<br>Total_RAPTOR_Scores=%{x}<br>Total_Pace_Impact=%{marker.size}<extra></extra>\",\"legendgroup\":\"Stephen Curry\",\"marker\":{\"color\":\"rgb(254,232,200)\",\"size\":[43.601669491],\"sizemode\":\"area\",\"sizeref\":0.11333628732499999,\"symbol\":\"circle\"},\"mode\":\"markers\",\"name\":\"Stephen Curry\",\"orientation\":\"v\",\"showlegend\":true,\"x\":[169.70555253499998],\"xaxis\":\"x\",\"y\":[43.601669491],\"yaxis\":\"y\",\"type\":\"scatter\"},{\"customdata\":[[\"Chuck Nevitt\"]],\"hovertemplate\":\"player_name=%{customdata[0]}<br>Total_RAPTOR_Scores=%{x}<br>Total_Pace_Impact=%{marker.size}<extra></extra>\",\"legendgroup\":\"Chuck Nevitt\",\"marker\":{\"color\":\"rgb(253,212,158)\",\"size\":[39.908693032],\"sizemode\":\"area\",\"sizeref\":0.11333628732499999,\"symbol\":\"circle\"},\"mode\":\"markers\",\"name\":\"Chuck Nevitt\",\"orientation\":\"v\",\"showlegend\":true,\"x\":[-136.243213891],\"xaxis\":\"x\",\"y\":[39.908693032],\"yaxis\":\"y\",\"type\":\"scatter\"},{\"customdata\":[[\"Josh Davis\"]],\"hovertemplate\":\"player_name=%{customdata[0]}<br>Total_RAPTOR_Scores=%{x}<br>Total_Pace_Impact=%{marker.size}<extra></extra>\",\"legendgroup\":\"Josh Davis\",\"marker\":{\"color\":\"rgb(253,187,132)\",\"size\":[34.512570384],\"sizemode\":\"area\",\"sizeref\":0.11333628732499999,\"symbol\":\"circle\"},\"mode\":\"markers\",\"name\":\"Josh Davis\",\"orientation\":\"v\",\"showlegend\":true,\"x\":[-28.658863902999997],\"xaxis\":\"x\",\"y\":[34.512570384],\"yaxis\":\"y\",\"type\":\"scatter\"},{\"customdata\":[[\"Marc Iavaroni\"]],\"hovertemplate\":\"player_name=%{customdata[0]}<br>Total_RAPTOR_Scores=%{x}<br>Total_Pace_Impact=%{marker.size}<extra></extra>\",\"legendgroup\":\"Marc Iavaroni\",\"marker\":{\"color\":\"rgb(252,141,89)\",\"size\":[31.297726469999997],\"sizemode\":\"area\",\"sizeref\":0.11333628732499999,\"symbol\":\"circle\"},\"mode\":\"markers\",\"name\":\"Marc Iavaroni\",\"orientation\":\"v\",\"showlegend\":true,\"x\":[-87.7677001],\"xaxis\":\"x\",\"y\":[31.297726469999997],\"yaxis\":\"y\",\"type\":\"scatter\"},{\"customdata\":[[\"Charles Smith\"]],\"hovertemplate\":\"player_name=%{customdata[0]}<br>Total_RAPTOR_Scores=%{x}<br>Total_Pace_Impact=%{marker.size}<extra></extra>\",\"legendgroup\":\"Charles Smith\",\"marker\":{\"color\":\"rgb(239,101,72)\",\"size\":[31.114410982],\"sizemode\":\"area\",\"sizeref\":0.11333628732499999,\"symbol\":\"circle\"},\"mode\":\"markers\",\"name\":\"Charles Smith\",\"orientation\":\"v\",\"showlegend\":true,\"x\":[-63.126242889000004],\"xaxis\":\"x\",\"y\":[31.114410982],\"yaxis\":\"y\",\"type\":\"scatter\"},{\"customdata\":[[\"Mark West\"]],\"hovertemplate\":\"player_name=%{customdata[0]}<br>Total_RAPTOR_Scores=%{x}<br>Total_Pace_Impact=%{marker.size}<extra></extra>\",\"legendgroup\":\"Mark West\",\"marker\":{\"color\":\"rgb(215,48,31)\",\"size\":[30.942662112],\"sizemode\":\"area\",\"sizeref\":0.11333628732499999,\"symbol\":\"circle\"},\"mode\":\"markers\",\"name\":\"Mark West\",\"orientation\":\"v\",\"showlegend\":true,\"x\":[-115.669412637],\"xaxis\":\"x\",\"y\":[30.942662112],\"yaxis\":\"y\",\"type\":\"scatter\"},{\"customdata\":[[\"Darryl Dawkins\"]],\"hovertemplate\":\"player_name=%{customdata[0]}<br>Total_RAPTOR_Scores=%{x}<br>Total_Pace_Impact=%{marker.size}<extra></extra>\",\"legendgroup\":\"Darryl Dawkins\",\"marker\":{\"color\":\"rgb(179,0,0)\",\"size\":[30.501349466],\"sizemode\":\"area\",\"sizeref\":0.11333628732499999,\"symbol\":\"circle\"},\"mode\":\"markers\",\"name\":\"Darryl Dawkins\",\"orientation\":\"v\",\"showlegend\":true,\"x\":[-64.036856703],\"xaxis\":\"x\",\"y\":[30.501349466],\"yaxis\":\"y\",\"type\":\"scatter\"},{\"customdata\":[[\"Draymond Green\"]],\"hovertemplate\":\"player_name=%{customdata[0]}<br>Total_RAPTOR_Scores=%{x}<br>Total_Pace_Impact=%{marker.size}<extra></extra>\",\"legendgroup\":\"Draymond Green\",\"marker\":{\"color\":\"rgb(127,0,0)\",\"size\":[30.027390226],\"sizemode\":\"area\",\"sizeref\":0.11333628732499999,\"symbol\":\"circle\"},\"mode\":\"markers\",\"name\":\"Draymond Green\",\"orientation\":\"v\",\"showlegend\":true,\"x\":[107.472972529],\"xaxis\":\"x\",\"y\":[30.027390226],\"yaxis\":\"y\",\"type\":\"scatter\"},{\"customdata\":[[\"Travis Knight\"]],\"hovertemplate\":\"player_name=%{customdata[0]}<br>Total_RAPTOR_Scores=%{x}<br>Total_Pace_Impact=%{marker.size}<extra></extra>\",\"legendgroup\":\"Travis Knight\",\"marker\":{\"color\":\"rgb(255,247,236)\",\"size\":[29.936174705],\"sizemode\":\"area\",\"sizeref\":0.11333628732499999,\"symbol\":\"circle\"},\"mode\":\"markers\",\"name\":\"Travis Knight\",\"orientation\":\"v\",\"showlegend\":true,\"x\":[-66.186943715],\"xaxis\":\"x\",\"y\":[29.936174705],\"yaxis\":\"y\",\"type\":\"scatter\"},{\"customdata\":[[\"Manu Ginobili\"]],\"hovertemplate\":\"player_name=%{customdata[0]}<br>Total_RAPTOR_Scores=%{x}<br>Total_Pace_Impact=%{marker.size}<extra></extra>\",\"legendgroup\":\"Manu Ginobili\",\"marker\":{\"color\":\"rgb(254,232,200)\",\"size\":[27.853007408],\"sizemode\":\"area\",\"sizeref\":0.11333628732499999,\"symbol\":\"circle\"},\"mode\":\"markers\",\"name\":\"Manu Ginobili\",\"orientation\":\"v\",\"showlegend\":true,\"x\":[185.421272752],\"xaxis\":\"x\",\"y\":[27.853007408],\"yaxis\":\"y\",\"type\":\"scatter\"},{\"customdata\":[[\"Corey Brewer\"]],\"hovertemplate\":\"player_name=%{customdata[0]}<br>Total_RAPTOR_Scores=%{x}<br>Total_Pace_Impact=%{marker.size}<extra></extra>\",\"legendgroup\":\"Corey Brewer\",\"marker\":{\"color\":\"rgb(253,212,158)\",\"size\":[27.501411622],\"sizemode\":\"area\",\"sizeref\":0.11333628732499999,\"symbol\":\"circle\"},\"mode\":\"markers\",\"name\":\"Corey Brewer\",\"orientation\":\"v\",\"showlegend\":true,\"x\":[13.511453145],\"xaxis\":\"x\",\"y\":[27.501411622],\"yaxis\":\"y\",\"type\":\"scatter\"},{\"customdata\":[[\"Paul Mokeski\"]],\"hovertemplate\":\"player_name=%{customdata[0]}<br>Total_RAPTOR_Scores=%{x}<br>Total_Pace_Impact=%{marker.size}<extra></extra>\",\"legendgroup\":\"Paul Mokeski\",\"marker\":{\"color\":\"rgb(253,187,132)\",\"size\":[27.473024408],\"sizemode\":\"area\",\"sizeref\":0.11333628732499999,\"symbol\":\"circle\"},\"mode\":\"markers\",\"name\":\"Paul Mokeski\",\"orientation\":\"v\",\"showlegend\":true,\"x\":[-50.79794544],\"xaxis\":\"x\",\"y\":[27.473024408],\"yaxis\":\"y\",\"type\":\"scatter\"},{\"customdata\":[[\"Garrett Temple\"]],\"hovertemplate\":\"player_name=%{customdata[0]}<br>Total_RAPTOR_Scores=%{x}<br>Total_Pace_Impact=%{marker.size}<extra></extra>\",\"legendgroup\":\"Garrett Temple\",\"marker\":{\"color\":\"rgb(252,141,89)\",\"size\":[27.467722622],\"sizemode\":\"area\",\"sizeref\":0.11333628732499999,\"symbol\":\"circle\"},\"mode\":\"markers\",\"name\":\"Garrett Temple\",\"orientation\":\"v\",\"showlegend\":true,\"x\":[-71.840297936],\"xaxis\":\"x\",\"y\":[27.467722622],\"yaxis\":\"y\",\"type\":\"scatter\"},{\"customdata\":[[\"Kevin Durant\"]],\"hovertemplate\":\"player_name=%{customdata[0]}<br>Total_RAPTOR_Scores=%{x}<br>Total_Pace_Impact=%{marker.size}<extra></extra>\",\"legendgroup\":\"Kevin Durant\",\"marker\":{\"color\":\"rgb(239,101,72)\",\"size\":[27.420260326],\"sizemode\":\"area\",\"sizeref\":0.11333628732499999,\"symbol\":\"circle\"},\"mode\":\"markers\",\"name\":\"Kevin Durant\",\"orientation\":\"v\",\"showlegend\":true,\"x\":[127.883598741],\"xaxis\":\"x\",\"y\":[27.420260326],\"yaxis\":\"y\",\"type\":\"scatter\"},{\"customdata\":[[\"Jaren Jackson\"]],\"hovertemplate\":\"player_name=%{customdata[0]}<br>Total_RAPTOR_Scores=%{x}<br>Total_Pace_Impact=%{marker.size}<extra></extra>\",\"legendgroup\":\"Jaren Jackson\",\"marker\":{\"color\":\"rgb(215,48,31)\",\"size\":[26.695466406],\"sizemode\":\"area\",\"sizeref\":0.11333628732499999,\"symbol\":\"circle\"},\"mode\":\"markers\",\"name\":\"Jaren Jackson\",\"orientation\":\"v\",\"showlegend\":true,\"x\":[-79.51184105],\"xaxis\":\"x\",\"y\":[26.695466406],\"yaxis\":\"y\",\"type\":\"scatter\"},{\"customdata\":[[\"Greg Dreiling\"]],\"hovertemplate\":\"player_name=%{customdata[0]}<br>Total_RAPTOR_Scores=%{x}<br>Total_Pace_Impact=%{marker.size}<extra></extra>\",\"legendgroup\":\"Greg Dreiling\",\"marker\":{\"color\":\"rgb(179,0,0)\",\"size\":[25.582214941],\"sizemode\":\"area\",\"sizeref\":0.11333628732499999,\"symbol\":\"circle\"},\"mode\":\"markers\",\"name\":\"Greg Dreiling\",\"orientation\":\"v\",\"showlegend\":true,\"x\":[-80.807455185],\"xaxis\":\"x\",\"y\":[25.582214941],\"yaxis\":\"y\",\"type\":\"scatter\"},{\"customdata\":[[\"Eric Leckner\"]],\"hovertemplate\":\"player_name=%{customdata[0]}<br>Total_RAPTOR_Scores=%{x}<br>Total_Pace_Impact=%{marker.size}<extra></extra>\",\"legendgroup\":\"Eric Leckner\",\"marker\":{\"color\":\"rgb(127,0,0)\",\"size\":[25.543006369],\"sizemode\":\"area\",\"sizeref\":0.11333628732499999,\"symbol\":\"circle\"},\"mode\":\"markers\",\"name\":\"Eric Leckner\",\"orientation\":\"v\",\"showlegend\":true,\"x\":[-109.249291423],\"xaxis\":\"x\",\"y\":[25.543006369],\"yaxis\":\"y\",\"type\":\"scatter\"},{\"customdata\":[[\"Brian Cook\"]],\"hovertemplate\":\"player_name=%{customdata[0]}<br>Total_RAPTOR_Scores=%{x}<br>Total_Pace_Impact=%{marker.size}<extra></extra>\",\"legendgroup\":\"Brian Cook\",\"marker\":{\"color\":\"rgb(255,247,236)\",\"size\":[23.918769879],\"sizemode\":\"area\",\"sizeref\":0.11333628732499999,\"symbol\":\"circle\"},\"mode\":\"markers\",\"name\":\"Brian Cook\",\"orientation\":\"v\",\"showlegend\":true,\"x\":[-71.894754038],\"xaxis\":\"x\",\"y\":[23.918769879],\"yaxis\":\"y\",\"type\":\"scatter\"},{\"customdata\":[[\"Tim Thomas\"]],\"hovertemplate\":\"player_name=%{customdata[0]}<br>Total_RAPTOR_Scores=%{x}<br>Total_Pace_Impact=%{marker.size}<extra></extra>\",\"legendgroup\":\"Tim Thomas\",\"marker\":{\"color\":\"rgb(254,232,200)\",\"size\":[23.900911441],\"sizemode\":\"area\",\"sizeref\":0.11333628732499999,\"symbol\":\"circle\"},\"mode\":\"markers\",\"name\":\"Tim Thomas\",\"orientation\":\"v\",\"showlegend\":true,\"x\":[-32.156072312],\"xaxis\":\"x\",\"y\":[23.900911441],\"yaxis\":\"y\",\"type\":\"scatter\"}],                        {\"template\":{\"data\":{\"barpolar\":[{\"marker\":{\"line\":{\"color\":\"white\",\"width\":0.5},\"pattern\":{\"fillmode\":\"overlay\",\"size\":10,\"solidity\":0.2}},\"type\":\"barpolar\"}],\"bar\":[{\"error_x\":{\"color\":\"#2a3f5f\"},\"error_y\":{\"color\":\"#2a3f5f\"},\"marker\":{\"line\":{\"color\":\"white\",\"width\":0.5},\"pattern\":{\"fillmode\":\"overlay\",\"size\":10,\"solidity\":0.2}},\"type\":\"bar\"}],\"carpet\":[{\"aaxis\":{\"endlinecolor\":\"#2a3f5f\",\"gridcolor\":\"#C8D4E3\",\"linecolor\":\"#C8D4E3\",\"minorgridcolor\":\"#C8D4E3\",\"startlinecolor\":\"#2a3f5f\"},\"baxis\":{\"endlinecolor\":\"#2a3f5f\",\"gridcolor\":\"#C8D4E3\",\"linecolor\":\"#C8D4E3\",\"minorgridcolor\":\"#C8D4E3\",\"startlinecolor\":\"#2a3f5f\"},\"type\":\"carpet\"}],\"choropleth\":[{\"colorbar\":{\"outlinewidth\":0,\"ticks\":\"\"},\"type\":\"choropleth\"}],\"contourcarpet\":[{\"colorbar\":{\"outlinewidth\":0,\"ticks\":\"\"},\"type\":\"contourcarpet\"}],\"contour\":[{\"colorbar\":{\"outlinewidth\":0,\"ticks\":\"\"},\"colorscale\":[[0.0,\"#0d0887\"],[0.1111111111111111,\"#46039f\"],[0.2222222222222222,\"#7201a8\"],[0.3333333333333333,\"#9c179e\"],[0.4444444444444444,\"#bd3786\"],[0.5555555555555556,\"#d8576b\"],[0.6666666666666666,\"#ed7953\"],[0.7777777777777778,\"#fb9f3a\"],[0.8888888888888888,\"#fdca26\"],[1.0,\"#f0f921\"]],\"type\":\"contour\"}],\"heatmapgl\":[{\"colorbar\":{\"outlinewidth\":0,\"ticks\":\"\"},\"colorscale\":[[0.0,\"#0d0887\"],[0.1111111111111111,\"#46039f\"],[0.2222222222222222,\"#7201a8\"],[0.3333333333333333,\"#9c179e\"],[0.4444444444444444,\"#bd3786\"],[0.5555555555555556,\"#d8576b\"],[0.6666666666666666,\"#ed7953\"],[0.7777777777777778,\"#fb9f3a\"],[0.8888888888888888,\"#fdca26\"],[1.0,\"#f0f921\"]],\"type\":\"heatmapgl\"}],\"heatmap\":[{\"colorbar\":{\"outlinewidth\":0,\"ticks\":\"\"},\"colorscale\":[[0.0,\"#0d0887\"],[0.1111111111111111,\"#46039f\"],[0.2222222222222222,\"#7201a8\"],[0.3333333333333333,\"#9c179e\"],[0.4444444444444444,\"#bd3786\"],[0.5555555555555556,\"#d8576b\"],[0.6666666666666666,\"#ed7953\"],[0.7777777777777778,\"#fb9f3a\"],[0.8888888888888888,\"#fdca26\"],[1.0,\"#f0f921\"]],\"type\":\"heatmap\"}],\"histogram2dcontour\":[{\"colorbar\":{\"outlinewidth\":0,\"ticks\":\"\"},\"colorscale\":[[0.0,\"#0d0887\"],[0.1111111111111111,\"#46039f\"],[0.2222222222222222,\"#7201a8\"],[0.3333333333333333,\"#9c179e\"],[0.4444444444444444,\"#bd3786\"],[0.5555555555555556,\"#d8576b\"],[0.6666666666666666,\"#ed7953\"],[0.7777777777777778,\"#fb9f3a\"],[0.8888888888888888,\"#fdca26\"],[1.0,\"#f0f921\"]],\"type\":\"histogram2dcontour\"}],\"histogram2d\":[{\"colorbar\":{\"outlinewidth\":0,\"ticks\":\"\"},\"colorscale\":[[0.0,\"#0d0887\"],[0.1111111111111111,\"#46039f\"],[0.2222222222222222,\"#7201a8\"],[0.3333333333333333,\"#9c179e\"],[0.4444444444444444,\"#bd3786\"],[0.5555555555555556,\"#d8576b\"],[0.6666666666666666,\"#ed7953\"],[0.7777777777777778,\"#fb9f3a\"],[0.8888888888888888,\"#fdca26\"],[1.0,\"#f0f921\"]],\"type\":\"histogram2d\"}],\"histogram\":[{\"marker\":{\"pattern\":{\"fillmode\":\"overlay\",\"size\":10,\"solidity\":0.2}},\"type\":\"histogram\"}],\"mesh3d\":[{\"colorbar\":{\"outlinewidth\":0,\"ticks\":\"\"},\"type\":\"mesh3d\"}],\"parcoords\":[{\"line\":{\"colorbar\":{\"outlinewidth\":0,\"ticks\":\"\"}},\"type\":\"parcoords\"}],\"pie\":[{\"automargin\":true,\"type\":\"pie\"}],\"scatter3d\":[{\"line\":{\"colorbar\":{\"outlinewidth\":0,\"ticks\":\"\"}},\"marker\":{\"colorbar\":{\"outlinewidth\":0,\"ticks\":\"\"}},\"type\":\"scatter3d\"}],\"scattercarpet\":[{\"marker\":{\"colorbar\":{\"outlinewidth\":0,\"ticks\":\"\"}},\"type\":\"scattercarpet\"}],\"scattergeo\":[{\"marker\":{\"colorbar\":{\"outlinewidth\":0,\"ticks\":\"\"}},\"type\":\"scattergeo\"}],\"scattergl\":[{\"marker\":{\"colorbar\":{\"outlinewidth\":0,\"ticks\":\"\"}},\"type\":\"scattergl\"}],\"scattermapbox\":[{\"marker\":{\"colorbar\":{\"outlinewidth\":0,\"ticks\":\"\"}},\"type\":\"scattermapbox\"}],\"scatterpolargl\":[{\"marker\":{\"colorbar\":{\"outlinewidth\":0,\"ticks\":\"\"}},\"type\":\"scatterpolargl\"}],\"scatterpolar\":[{\"marker\":{\"colorbar\":{\"outlinewidth\":0,\"ticks\":\"\"}},\"type\":\"scatterpolar\"}],\"scatter\":[{\"fillpattern\":{\"fillmode\":\"overlay\",\"size\":10,\"solidity\":0.2},\"type\":\"scatter\"}],\"scatterternary\":[{\"marker\":{\"colorbar\":{\"outlinewidth\":0,\"ticks\":\"\"}},\"type\":\"scatterternary\"}],\"surface\":[{\"colorbar\":{\"outlinewidth\":0,\"ticks\":\"\"},\"colorscale\":[[0.0,\"#0d0887\"],[0.1111111111111111,\"#46039f\"],[0.2222222222222222,\"#7201a8\"],[0.3333333333333333,\"#9c179e\"],[0.4444444444444444,\"#bd3786\"],[0.5555555555555556,\"#d8576b\"],[0.6666666666666666,\"#ed7953\"],[0.7777777777777778,\"#fb9f3a\"],[0.8888888888888888,\"#fdca26\"],[1.0,\"#f0f921\"]],\"type\":\"surface\"}],\"table\":[{\"cells\":{\"fill\":{\"color\":\"#EBF0F8\"},\"line\":{\"color\":\"white\"}},\"header\":{\"fill\":{\"color\":\"#C8D4E3\"},\"line\":{\"color\":\"white\"}},\"type\":\"table\"}]},\"layout\":{\"annotationdefaults\":{\"arrowcolor\":\"#2a3f5f\",\"arrowhead\":0,\"arrowwidth\":1},\"autotypenumbers\":\"strict\",\"coloraxis\":{\"colorbar\":{\"outlinewidth\":0,\"ticks\":\"\"}},\"colorscale\":{\"diverging\":[[0,\"#8e0152\"],[0.1,\"#c51b7d\"],[0.2,\"#de77ae\"],[0.3,\"#f1b6da\"],[0.4,\"#fde0ef\"],[0.5,\"#f7f7f7\"],[0.6,\"#e6f5d0\"],[0.7,\"#b8e186\"],[0.8,\"#7fbc41\"],[0.9,\"#4d9221\"],[1,\"#276419\"]],\"sequential\":[[0.0,\"#0d0887\"],[0.1111111111111111,\"#46039f\"],[0.2222222222222222,\"#7201a8\"],[0.3333333333333333,\"#9c179e\"],[0.4444444444444444,\"#bd3786\"],[0.5555555555555556,\"#d8576b\"],[0.6666666666666666,\"#ed7953\"],[0.7777777777777778,\"#fb9f3a\"],[0.8888888888888888,\"#fdca26\"],[1.0,\"#f0f921\"]],\"sequentialminus\":[[0.0,\"#0d0887\"],[0.1111111111111111,\"#46039f\"],[0.2222222222222222,\"#7201a8\"],[0.3333333333333333,\"#9c179e\"],[0.4444444444444444,\"#bd3786\"],[0.5555555555555556,\"#d8576b\"],[0.6666666666666666,\"#ed7953\"],[0.7777777777777778,\"#fb9f3a\"],[0.8888888888888888,\"#fdca26\"],[1.0,\"#f0f921\"]]},\"colorway\":[\"#636efa\",\"#EF553B\",\"#00cc96\",\"#ab63fa\",\"#FFA15A\",\"#19d3f3\",\"#FF6692\",\"#B6E880\",\"#FF97FF\",\"#FECB52\"],\"font\":{\"color\":\"#2a3f5f\"},\"geo\":{\"bgcolor\":\"white\",\"lakecolor\":\"white\",\"landcolor\":\"white\",\"showlakes\":true,\"showland\":true,\"subunitcolor\":\"#C8D4E3\"},\"hoverlabel\":{\"align\":\"left\"},\"hovermode\":\"closest\",\"mapbox\":{\"style\":\"light\"},\"paper_bgcolor\":\"white\",\"plot_bgcolor\":\"white\",\"polar\":{\"angularaxis\":{\"gridcolor\":\"#EBF0F8\",\"linecolor\":\"#EBF0F8\",\"ticks\":\"\"},\"bgcolor\":\"white\",\"radialaxis\":{\"gridcolor\":\"#EBF0F8\",\"linecolor\":\"#EBF0F8\",\"ticks\":\"\"}},\"scene\":{\"xaxis\":{\"backgroundcolor\":\"white\",\"gridcolor\":\"#DFE8F3\",\"gridwidth\":2,\"linecolor\":\"#EBF0F8\",\"showbackground\":true,\"ticks\":\"\",\"zerolinecolor\":\"#EBF0F8\"},\"yaxis\":{\"backgroundcolor\":\"white\",\"gridcolor\":\"#DFE8F3\",\"gridwidth\":2,\"linecolor\":\"#EBF0F8\",\"showbackground\":true,\"ticks\":\"\",\"zerolinecolor\":\"#EBF0F8\"},\"zaxis\":{\"backgroundcolor\":\"white\",\"gridcolor\":\"#DFE8F3\",\"gridwidth\":2,\"linecolor\":\"#EBF0F8\",\"showbackground\":true,\"ticks\":\"\",\"zerolinecolor\":\"#EBF0F8\"}},\"shapedefaults\":{\"line\":{\"color\":\"#2a3f5f\"}},\"ternary\":{\"aaxis\":{\"gridcolor\":\"#DFE8F3\",\"linecolor\":\"#A2B1C6\",\"ticks\":\"\"},\"baxis\":{\"gridcolor\":\"#DFE8F3\",\"linecolor\":\"#A2B1C6\",\"ticks\":\"\"},\"bgcolor\":\"white\",\"caxis\":{\"gridcolor\":\"#DFE8F3\",\"linecolor\":\"#A2B1C6\",\"ticks\":\"\"}},\"title\":{\"x\":0.05},\"xaxis\":{\"automargin\":true,\"gridcolor\":\"#EBF0F8\",\"linecolor\":\"#EBF0F8\",\"ticks\":\"\",\"title\":{\"standoff\":15},\"zerolinecolor\":\"#EBF0F8\",\"zerolinewidth\":2},\"yaxis\":{\"automargin\":true,\"gridcolor\":\"#EBF0F8\",\"linecolor\":\"#EBF0F8\",\"ticks\":\"\",\"title\":{\"standoff\":15},\"zerolinecolor\":\"#EBF0F8\",\"zerolinewidth\":2}}},\"xaxis\":{\"anchor\":\"y\",\"domain\":[0.0,1.0],\"title\":{\"text\":\"Total_RAPTOR_Scores\"}},\"yaxis\":{\"anchor\":\"x\",\"domain\":[0.0,1.0],\"title\":{\"text\":\"Total_Pace_Impact\"}},\"legend\":{\"title\":{\"text\":\"player_name\"},\"tracegroupgap\":0,\"itemsizing\":\"constant\"},\"margin\":{\"t\":60}},                        {\"responsive\": true}                    ).then(function(){\n",
       "                            \n",
       "var gd = document.getElementById('de7845f1-71b3-438e-8e2a-643f784c9bb6');\n",
       "var x = new MutationObserver(function (mutations, observer) {{\n",
       "        var display = window.getComputedStyle(gd).display;\n",
       "        if (!display || display === 'none') {{\n",
       "            console.log([gd, 'removed!']);\n",
       "            Plotly.purge(gd);\n",
       "            observer.disconnect();\n",
       "        }}\n",
       "}});\n",
       "\n",
       "// Listen for the removal of the full notebook cells\n",
       "var notebookContainer = gd.closest('#notebook-container');\n",
       "if (notebookContainer) {{\n",
       "    x.observe(notebookContainer, {childList: true});\n",
       "}}\n",
       "\n",
       "// Listen for the clearing of the current output cell\n",
       "var outputEl = gd.closest('.output');\n",
       "if (outputEl) {{\n",
       "    x.observe(outputEl, {childList: true});\n",
       "}}\n",
       "\n",
       "                        })                };                });            </script>        </div>"
      ]
     },
     "metadata": {},
     "output_type": "display_data"
    }
   ],
   "source": [
    "fig = px.scatter(top_20_pace,\n",
    "                 x=\"Total_RAPTOR_Scores\",\n",
    "                 y=\"Total_Pace_Impact\",\n",
    "                 color=\"player_name\",\n",
    "                 color_discrete_sequence=px.colors.sequential.OrRd,\n",
    "                 size='Total_Pace_Impact',\n",
    "                 template=\"plotly_white\",\n",
    "                 \n",
    "                 hover_data=['player_name'])\n",
    "# fig.update_traces(showlegend=False)\n",
    "fig.show()"
   ]
  },
  {
   "cell_type": "code",
   "execution_count": 59,
   "id": "de0e2c08",
   "metadata": {},
   "outputs": [
    {
     "data": {
      "text/html": [
       "<div>\n",
       "<style scoped>\n",
       "    .dataframe tbody tr th:only-of-type {\n",
       "        vertical-align: middle;\n",
       "    }\n",
       "\n",
       "    .dataframe tbody tr th {\n",
       "        vertical-align: top;\n",
       "    }\n",
       "\n",
       "    .dataframe thead th {\n",
       "        text-align: right;\n",
       "    }\n",
       "</style>\n",
       "<table border=\"1\" class=\"dataframe\">\n",
       "  <thead>\n",
       "    <tr style=\"text-align: right;\">\n",
       "      <th></th>\n",
       "      <th>player_name</th>\n",
       "      <th>Total_Pace_Impact</th>\n",
       "      <th>Total_RAPTOR_Scores</th>\n",
       "    </tr>\n",
       "  </thead>\n",
       "  <tbody>\n",
       "    <tr>\n",
       "      <th>3035</th>\n",
       "      <td>Russell Westbrook</td>\n",
       "      <td>45.334515</td>\n",
       "      <td>60.129429</td>\n",
       "    </tr>\n",
       "    <tr>\n",
       "      <th>3206</th>\n",
       "      <td>Stephen Curry</td>\n",
       "      <td>43.601669</td>\n",
       "      <td>169.705553</td>\n",
       "    </tr>\n",
       "  </tbody>\n",
       "</table>\n",
       "</div>"
      ],
      "text/plain": [
       "            player_name  Total_Pace_Impact  Total_RAPTOR_Scores\n",
       "3035  Russell Westbrook          45.334515            60.129429\n",
       "3206      Stephen Curry          43.601669           169.705553"
      ]
     },
     "execution_count": 59,
     "metadata": {},
     "output_type": "execute_result"
    }
   ],
   "source": [
    "top_20_pace.head(2)"
   ]
  },
  {
   "cell_type": "code",
   "execution_count": null,
   "id": "48af87ed",
   "metadata": {},
   "outputs": [],
   "source": []
  },
  {
   "cell_type": "code",
   "execution_count": null,
   "id": "b3e8f211",
   "metadata": {},
   "outputs": [],
   "source": []
  },
  {
   "cell_type": "code",
   "execution_count": null,
   "id": "4cdef984",
   "metadata": {},
   "outputs": [],
   "source": []
  },
  {
   "cell_type": "code",
   "execution_count": null,
   "id": "cbc57174",
   "metadata": {},
   "outputs": [],
   "source": []
  },
  {
   "cell_type": "code",
   "execution_count": null,
   "id": "91137de2",
   "metadata": {},
   "outputs": [],
   "source": [
    "df_mx=clean_df[['poss',\n",
    "       'mp', 'raptor_offense', 'raptor_defense', 'raptor_total', 'war_total',\n",
    "       'war_reg_season', 'war_playoffs', 'predator_offense',\n",
    "       'predator_defense', 'predator_total', 'pace_impact',\n",
    "       'raptor_box_offense', 'raptor_box_defense', 'raptor_box_total',\n",
    "       'raptor_onoff_offense', 'raptor_onoff_defense', 'raptor_onoff_total']].corr()\n",
    "df_mx"
   ]
  },
  {
   "cell_type": "code",
   "execution_count": null,
   "id": "37881d27",
   "metadata": {},
   "outputs": [],
   "source": [
    "plt.figure(figsize=(10,10))\n",
    "sns.set_context(\"notebook\",font_scale=0.8)\n",
    "\n",
    "sns.heatmap(df_mx, annot=True, cmap=\"Blues\")\n",
    "plt.show()"
   ]
  },
  {
   "cell_type": "code",
   "execution_count": null,
   "id": "73e91418",
   "metadata": {},
   "outputs": [],
   "source": [
    "cluster_plot=clean_df[[\"season\",\"team\",\"raptor_total\"]]\n",
    "cluster_plot.head()"
   ]
  },
  {
   "cell_type": "code",
   "execution_count": null,
   "id": "0392baad",
   "metadata": {},
   "outputs": [],
   "source": [
    "cluster_plot=cluster_plot.pivot_table(index=\"team\",columns=\"season\",values=\"raptor_total\")\n"
   ]
  },
  {
   "cell_type": "code",
   "execution_count": null,
   "id": "acf9bffd",
   "metadata": {},
   "outputs": [],
   "source": [
    "sns.set_context(\"notebook\")\n",
    "sns.heatmap(cluster_plot, cmap=\"Blues\")\n",
    "plt.show()"
   ]
  },
  {
   "cell_type": "code",
   "execution_count": null,
   "id": "5532bb4b",
   "metadata": {},
   "outputs": [],
   "source": []
  },
  {
   "cell_type": "code",
   "execution_count": null,
   "id": "892fe743",
   "metadata": {},
   "outputs": [],
   "source": []
  },
  {
   "cell_type": "code",
   "execution_count": null,
   "id": "4ce961aa",
   "metadata": {},
   "outputs": [],
   "source": []
  },
  {
   "cell_type": "code",
   "execution_count": null,
   "id": "25c03aa1",
   "metadata": {},
   "outputs": [],
   "source": [
    "# avg_sum=avg_summary[[\"team\",\"Raptor Total\",\"Pace Impact\",\"Minutes Played\"]]\n",
    "# avg_sum=avg_sum.head(10)\n",
    "# avg_sum"
   ]
  },
  {
   "cell_type": "code",
   "execution_count": null,
   "id": "2d847e27",
   "metadata": {},
   "outputs": [],
   "source": [
    "# sns.set_context(\"talk\")\n",
    "#  plt.figure(figsize=(10,10))\n",
    "# sns.lmplot(x=\"Raptor Total\",\n",
    "#            y=\"RAPTOR Offense\",\n",
    "#            hue=\"team\",\n",
    "#            legend=False,\n",
    "#            data=avg_summary,\n",
    "#            scatter_kws={\"s\":100,\"linewidth\":0.5,\"edgecolor\":\"w\"})\n",
    "\n",
    "# plt.show()"
   ]
  },
  {
   "cell_type": "code",
   "execution_count": null,
   "id": "7d605ba6",
   "metadata": {},
   "outputs": [],
   "source": []
  },
  {
   "cell_type": "code",
   "execution_count": null,
   "id": "6899a0ad",
   "metadata": {},
   "outputs": [],
   "source": []
  },
  {
   "cell_type": "code",
   "execution_count": null,
   "id": "afc76347",
   "metadata": {},
   "outputs": [],
   "source": []
  },
  {
   "cell_type": "code",
   "execution_count": null,
   "id": "544ebd7c",
   "metadata": {},
   "outputs": [],
   "source": []
  },
  {
   "cell_type": "code",
   "execution_count": null,
   "id": "578ec91c",
   "metadata": {},
   "outputs": [],
   "source": []
  },
  {
   "cell_type": "code",
   "execution_count": null,
   "id": "3c753433",
   "metadata": {},
   "outputs": [],
   "source": []
  },
  {
   "cell_type": "code",
   "execution_count": null,
   "id": "0539c694",
   "metadata": {},
   "outputs": [],
   "source": []
  },
  {
   "cell_type": "code",
   "execution_count": null,
   "id": "efedadee",
   "metadata": {},
   "outputs": [],
   "source": []
  },
  {
   "cell_type": "code",
   "execution_count": null,
   "id": "edcdfc1d",
   "metadata": {},
   "outputs": [],
   "source": []
  },
  {
   "cell_type": "code",
   "execution_count": null,
   "id": "5d2dfe77",
   "metadata": {},
   "outputs": [],
   "source": []
  }
 ],
 "metadata": {
  "kernelspec": {
   "display_name": "Python 3 (ipykernel)",
   "language": "python",
   "name": "python3"
  },
  "language_info": {
   "codemirror_mode": {
    "name": "ipython",
    "version": 3
   },
   "file_extension": ".py",
   "mimetype": "text/x-python",
   "name": "python",
   "nbconvert_exporter": "python",
   "pygments_lexer": "ipython3",
   "version": "3.7.13"
  }
 },
 "nbformat": 4,
 "nbformat_minor": 5
}
